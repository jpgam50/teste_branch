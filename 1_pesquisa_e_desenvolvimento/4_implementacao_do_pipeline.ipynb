{
 "cells": [
  {
   "cell_type": "markdown",
   "id": "1e866298",
   "metadata": {},
   "source": [
    "# Construção do pipeline\n",
    "\n",
    "Nesta seção será construido o pipilene para o modelo transformações escolhidas. Este notebook será usado como referência para a construção de um pacote em python capaz de treinar e preiver com modelo desenvolvido\n",
    "\n",
    "Sequência para a construção do pipeline\n",
    "\n",
    "- Divisão nos dados: deve ser selecionado somente as colunas utilizadas para o treinamento do modelo. Os dados também devem ser dividos entre dados de treinamento e de teste.\n",
    "- Definição das classes para as transformações nos dados\n",
    "- Definição do  pipeline e treinamento do modelo\n",
    "- Avaliação do modelo\n"
   ]
  },
  {
   "cell_type": "code",
   "execution_count": 11,
   "id": "ff548a3c",
   "metadata": {},
   "outputs": [],
   "source": [
    "import pandas as pd\n",
    "import numpy as np\n",
    "\n",
    "# tranformação\n",
    "from sklearn.preprocessing import PowerTransformer\n",
    "\n",
    "# metodos sklearn\n",
    "from sklearn.pipeline import Pipeline\n",
    "from sklearn.model_selection import train_test_split\n",
    "from sklearn import metrics\n",
    "\n",
    "# modelos\n",
    "from sklearn.ensemble import RandomForestClassifier\n",
    "\n",
    "# para salvar o modelo\n",
    "import joblib"
   ]
  },
  {
   "cell_type": "code",
   "execution_count": 12,
   "id": "5468719a",
   "metadata": {},
   "outputs": [
    {
     "data": {
      "text/html": [
       "<div>\n",
       "<style scoped>\n",
       "    .dataframe tbody tr th:only-of-type {\n",
       "        vertical-align: middle;\n",
       "    }\n",
       "\n",
       "    .dataframe tbody tr th {\n",
       "        vertical-align: top;\n",
       "    }\n",
       "\n",
       "    .dataframe thead th {\n",
       "        text-align: right;\n",
       "    }\n",
       "</style>\n",
       "<table border=\"1\" class=\"dataframe\">\n",
       "  <thead>\n",
       "    <tr style=\"text-align: right;\">\n",
       "      <th></th>\n",
       "      <th>age</th>\n",
       "      <th>gender</th>\n",
       "      <th>height_cm</th>\n",
       "      <th>weight_kg</th>\n",
       "      <th>body fat_%</th>\n",
       "      <th>diastolic</th>\n",
       "      <th>systolic</th>\n",
       "      <th>gripForce</th>\n",
       "      <th>sit and bend forward_cm</th>\n",
       "      <th>sit-ups counts</th>\n",
       "      <th>broad jump_cm</th>\n",
       "      <th>class</th>\n",
       "    </tr>\n",
       "  </thead>\n",
       "  <tbody>\n",
       "    <tr>\n",
       "      <th>0</th>\n",
       "      <td>24.0</td>\n",
       "      <td>M</td>\n",
       "      <td>167.3</td>\n",
       "      <td>56.10</td>\n",
       "      <td>15.6</td>\n",
       "      <td>76.0</td>\n",
       "      <td>130.0</td>\n",
       "      <td>44.6</td>\n",
       "      <td>23.1</td>\n",
       "      <td>44.0</td>\n",
       "      <td>208.0</td>\n",
       "      <td>C</td>\n",
       "    </tr>\n",
       "    <tr>\n",
       "      <th>1</th>\n",
       "      <td>54.0</td>\n",
       "      <td>F</td>\n",
       "      <td>161.0</td>\n",
       "      <td>51.86</td>\n",
       "      <td>29.9</td>\n",
       "      <td>88.0</td>\n",
       "      <td>154.0</td>\n",
       "      <td>22.1</td>\n",
       "      <td>23.0</td>\n",
       "      <td>36.0</td>\n",
       "      <td>148.0</td>\n",
       "      <td>A</td>\n",
       "    </tr>\n",
       "    <tr>\n",
       "      <th>2</th>\n",
       "      <td>34.0</td>\n",
       "      <td>M</td>\n",
       "      <td>171.7</td>\n",
       "      <td>74.22</td>\n",
       "      <td>22.6</td>\n",
       "      <td>86.0</td>\n",
       "      <td>138.0</td>\n",
       "      <td>56.1</td>\n",
       "      <td>11.4</td>\n",
       "      <td>38.0</td>\n",
       "      <td>229.0</td>\n",
       "      <td>C</td>\n",
       "    </tr>\n",
       "    <tr>\n",
       "      <th>3</th>\n",
       "      <td>21.0</td>\n",
       "      <td>M</td>\n",
       "      <td>174.0</td>\n",
       "      <td>69.80</td>\n",
       "      <td>10.8</td>\n",
       "      <td>75.0</td>\n",
       "      <td>133.0</td>\n",
       "      <td>48.5</td>\n",
       "      <td>28.1</td>\n",
       "      <td>67.0</td>\n",
       "      <td>248.0</td>\n",
       "      <td>A</td>\n",
       "    </tr>\n",
       "    <tr>\n",
       "      <th>4</th>\n",
       "      <td>37.0</td>\n",
       "      <td>F</td>\n",
       "      <td>162.8</td>\n",
       "      <td>53.00</td>\n",
       "      <td>18.4</td>\n",
       "      <td>74.0</td>\n",
       "      <td>116.0</td>\n",
       "      <td>28.5</td>\n",
       "      <td>22.8</td>\n",
       "      <td>51.0</td>\n",
       "      <td>193.0</td>\n",
       "      <td>B</td>\n",
       "    </tr>\n",
       "  </tbody>\n",
       "</table>\n",
       "</div>"
      ],
      "text/plain": [
       "    age gender  height_cm  weight_kg  body fat_%  diastolic  systolic  \\\n",
       "0  24.0      M      167.3      56.10        15.6       76.0     130.0   \n",
       "1  54.0      F      161.0      51.86        29.9       88.0     154.0   \n",
       "2  34.0      M      171.7      74.22        22.6       86.0     138.0   \n",
       "3  21.0      M      174.0      69.80        10.8       75.0     133.0   \n",
       "4  37.0      F      162.8      53.00        18.4       74.0     116.0   \n",
       "\n",
       "   gripForce  sit and bend forward_cm  sit-ups counts  broad jump_cm class  \n",
       "0       44.6                     23.1            44.0          208.0     C  \n",
       "1       22.1                     23.0            36.0          148.0     A  \n",
       "2       56.1                     11.4            38.0          229.0     C  \n",
       "3       48.5                     28.1            67.0          248.0     A  \n",
       "4       28.5                     22.8            51.0          193.0     B  "
      ]
     },
     "execution_count": 12,
     "metadata": {},
     "output_type": "execute_result"
    }
   ],
   "source": [
    "#leitura dos dados\n",
    "df = pd.read_csv(\".//dados//dados_originais//dados_treinamento.csv\" ,sep=',');\n",
    "\n",
    "# visualiza o dado\n",
    "df.head()"
   ]
  },
  {
   "cell_type": "markdown",
   "id": "a139a845",
   "metadata": {},
   "source": [
    "## Divisões dos dados"
   ]
  },
  {
   "cell_type": "code",
   "execution_count": 13,
   "id": "02e99c8a",
   "metadata": {},
   "outputs": [],
   "source": [
    "# seleciona variaveis de treinamento e alvo\n",
    "var_train=[var for var in df.columns if var != 'class'] \n",
    "\n",
    "X = df[var_train]   \n",
    "y = df['class']    "
   ]
  },
  {
   "cell_type": "code",
   "execution_count": 14,
   "id": "7004c893",
   "metadata": {},
   "outputs": [
    {
     "data": {
      "text/plain": [
       "((10847, 11), (1206, 11))"
      ]
     },
     "execution_count": 14,
     "metadata": {},
     "output_type": "execute_result"
    }
   ],
   "source": [
    "#Divide os dados\n",
    "X_train, X_test, y_train, y_test = train_test_split(X,y,\n",
    "                                                    test_size=0.1,\n",
    "                                                    random_state=0)\n",
    "\n",
    "X_train.shape, X_test.shape"
   ]
  },
  {
   "cell_type": "markdown",
   "id": "8a20dd58",
   "metadata": {},
   "source": [
    "## Classes para transformação dos dados"
   ]
  },
  {
   "cell_type": "code",
   "execution_count": 15,
   "id": "1ed8ac6d",
   "metadata": {},
   "outputs": [],
   "source": [
    "import numpy as np\n",
    "import pandas as pd\n",
    "from sklearn.base import BaseEstimator, TransformerMixin\n",
    "\n",
    "\n",
    "class Mapeamento(BaseEstimator, TransformerMixin):    \n",
    "\n",
    "    def __init__(self, variavel, mapa):        \n",
    "        '''\n",
    "        variavel: nome da coluna que será alterada\n",
    "        mapa: mapa com as alterações\n",
    "        '''\n",
    "        self.variavel = variavel\n",
    "        self.mapa = mapa \n",
    "\n",
    "        \n",
    "    def fit(self, X, y=None):        \n",
    "        '''\n",
    "        X: dataframe com os dados de treinamento        \n",
    "        y: serie com o rótulos do dados de treinamento\n",
    "        '''        \n",
    "        return self\n",
    "    \n",
    "\n",
    "    def transform(self, X):\n",
    "        '''\n",
    "        X: dataframe com os dados de treinamento        \n",
    "        '''        \n",
    "        X = X.copy()        \n",
    "        X[self.variavel] = X[self.variavel].map(self.mapa)\n",
    "        return X\n",
    "    \n",
    "    \n",
    "    \n",
    "    \n",
    "    \n",
    "class transf_yeo_johnson(BaseEstimator, TransformerMixin):    \n",
    "\n",
    "    def __init__(self, colunas):\n",
    "        '''\n",
    "        colunas: lista com as colunas que serão transformadas\n",
    "        '''\n",
    "        self.colunas = colunas\n",
    "        self.obj_transf= PowerTransformer(method=\"yeo-johnson\")\n",
    "    \n",
    "    \n",
    "    def fit(self, X, y=None):\n",
    "        '''\n",
    "        X: dataframe com os dados de treinamento        \n",
    "        y: serie com o rótulos do dados de treinamento\n",
    "        '''        \n",
    "        self.obj_transf= self.obj_transf.fit(X[self.colunas].values) \n",
    "        return self  \n",
    "    \n",
    "\n",
    "    def transform(self, X):\n",
    "        '''\n",
    "        X: dataframe com os dados de treinamento        \n",
    "        '''\n",
    "        X = X.copy()\n",
    "        X_array = X[self.colunas].values\n",
    "        X[self.colunas] = self.obj_transf.transform(X_array)\n",
    "        return X\n"
   ]
  },
  {
   "cell_type": "markdown",
   "id": "240d0bad",
   "metadata": {},
   "source": [
    "## Configurações"
   ]
  },
  {
   "cell_type": "code",
   "execution_count": 16,
   "id": "9a181f70",
   "metadata": {},
   "outputs": [],
   "source": [
    "# Definições gerais\n",
    "gender_map = {'M': 0, 'F': 1}\n",
    "\n",
    "CONTINUOUS_VAR=['age',\n",
    "                'height_cm',\n",
    "                'weight_kg',\n",
    "                'body fat_%', \n",
    "                'diastolic',                \n",
    "                'systolic',\n",
    "                'gripForce',\n",
    "                'sit and bend forward_cm',\n",
    "                'sit-ups counts',\n",
    "                'broad jump_cm']\n"
   ]
  },
  {
   "cell_type": "markdown",
   "id": "3eb97e75",
   "metadata": {},
   "source": [
    "## Pipeline"
   ]
  },
  {
   "cell_type": "code",
   "execution_count": 17,
   "id": "7d9d82e5",
   "metadata": {},
   "outputs": [],
   "source": [
    "# Construção do pipeline\n",
    "model_pipe= Pipeline([     \n",
    "    ('map_gender', Mapeamento(variavel='gender',mapa=gender_map)),\n",
    "    ('YeoYohnson_trans', transf_yeo_johnson(CONTINUOUS_VAR)),           \n",
    "    ('randForest', RandomForestClassifier(max_depth=14,\n",
    "                             max_features=8,\n",
    "                             n_estimators=80,\n",
    "                             bootstrap=True,\n",
    "                             max_samples=None,\n",
    "                             random_state=0))\n",
    "    ])"
   ]
  },
  {
   "cell_type": "code",
   "execution_count": 18,
   "id": "f86cbc64",
   "metadata": {},
   "outputs": [
    {
     "data": {
      "text/html": [
       "<style>#sk-container-id-2 {color: black;background-color: white;}#sk-container-id-2 pre{padding: 0;}#sk-container-id-2 div.sk-toggleable {background-color: white;}#sk-container-id-2 label.sk-toggleable__label {cursor: pointer;display: block;width: 100%;margin-bottom: 0;padding: 0.3em;box-sizing: border-box;text-align: center;}#sk-container-id-2 label.sk-toggleable__label-arrow:before {content: \"▸\";float: left;margin-right: 0.25em;color: #696969;}#sk-container-id-2 label.sk-toggleable__label-arrow:hover:before {color: black;}#sk-container-id-2 div.sk-estimator:hover label.sk-toggleable__label-arrow:before {color: black;}#sk-container-id-2 div.sk-toggleable__content {max-height: 0;max-width: 0;overflow: hidden;text-align: left;background-color: #f0f8ff;}#sk-container-id-2 div.sk-toggleable__content pre {margin: 0.2em;color: black;border-radius: 0.25em;background-color: #f0f8ff;}#sk-container-id-2 input.sk-toggleable__control:checked~div.sk-toggleable__content {max-height: 200px;max-width: 100%;overflow: auto;}#sk-container-id-2 input.sk-toggleable__control:checked~label.sk-toggleable__label-arrow:before {content: \"▾\";}#sk-container-id-2 div.sk-estimator input.sk-toggleable__control:checked~label.sk-toggleable__label {background-color: #d4ebff;}#sk-container-id-2 div.sk-label input.sk-toggleable__control:checked~label.sk-toggleable__label {background-color: #d4ebff;}#sk-container-id-2 input.sk-hidden--visually {border: 0;clip: rect(1px 1px 1px 1px);clip: rect(1px, 1px, 1px, 1px);height: 1px;margin: -1px;overflow: hidden;padding: 0;position: absolute;width: 1px;}#sk-container-id-2 div.sk-estimator {font-family: monospace;background-color: #f0f8ff;border: 1px dotted black;border-radius: 0.25em;box-sizing: border-box;margin-bottom: 0.5em;}#sk-container-id-2 div.sk-estimator:hover {background-color: #d4ebff;}#sk-container-id-2 div.sk-parallel-item::after {content: \"\";width: 100%;border-bottom: 1px solid gray;flex-grow: 1;}#sk-container-id-2 div.sk-label:hover label.sk-toggleable__label {background-color: #d4ebff;}#sk-container-id-2 div.sk-serial::before {content: \"\";position: absolute;border-left: 1px solid gray;box-sizing: border-box;top: 0;bottom: 0;left: 50%;z-index: 0;}#sk-container-id-2 div.sk-serial {display: flex;flex-direction: column;align-items: center;background-color: white;padding-right: 0.2em;padding-left: 0.2em;position: relative;}#sk-container-id-2 div.sk-item {position: relative;z-index: 1;}#sk-container-id-2 div.sk-parallel {display: flex;align-items: stretch;justify-content: center;background-color: white;position: relative;}#sk-container-id-2 div.sk-item::before, #sk-container-id-2 div.sk-parallel-item::before {content: \"\";position: absolute;border-left: 1px solid gray;box-sizing: border-box;top: 0;bottom: 0;left: 50%;z-index: -1;}#sk-container-id-2 div.sk-parallel-item {display: flex;flex-direction: column;z-index: 1;position: relative;background-color: white;}#sk-container-id-2 div.sk-parallel-item:first-child::after {align-self: flex-end;width: 50%;}#sk-container-id-2 div.sk-parallel-item:last-child::after {align-self: flex-start;width: 50%;}#sk-container-id-2 div.sk-parallel-item:only-child::after {width: 0;}#sk-container-id-2 div.sk-dashed-wrapped {border: 1px dashed gray;margin: 0 0.4em 0.5em 0.4em;box-sizing: border-box;padding-bottom: 0.4em;background-color: white;}#sk-container-id-2 div.sk-label label {font-family: monospace;font-weight: bold;display: inline-block;line-height: 1.2em;}#sk-container-id-2 div.sk-label-container {text-align: center;}#sk-container-id-2 div.sk-container {/* jupyter's `normalize.less` sets `[hidden] { display: none; }` but bootstrap.min.css set `[hidden] { display: none !important; }` so we also need the `!important` here to be able to override the default hidden behavior on the sphinx rendered scikit-learn.org. See: https://github.com/scikit-learn/scikit-learn/issues/21755 */display: inline-block !important;position: relative;}#sk-container-id-2 div.sk-text-repr-fallback {display: none;}</style><div id=\"sk-container-id-2\" class=\"sk-top-container\"><div class=\"sk-text-repr-fallback\"><pre>Pipeline(steps=[(&#x27;map_gender&#x27;,\n",
       "                 Mapeamento(mapa={&#x27;F&#x27;: 1, &#x27;M&#x27;: 0}, variavel=&#x27;gender&#x27;)),\n",
       "                (&#x27;YeoYohnson_trans&#x27;,\n",
       "                 transf_yeo_johnson(colunas=[&#x27;age&#x27;, &#x27;height_cm&#x27;, &#x27;weight_kg&#x27;,\n",
       "                                             &#x27;body fat_%&#x27;, &#x27;diastolic&#x27;,\n",
       "                                             &#x27;systolic&#x27;, &#x27;gripForce&#x27;,\n",
       "                                             &#x27;sit and bend forward_cm&#x27;,\n",
       "                                             &#x27;sit-ups counts&#x27;,\n",
       "                                             &#x27;broad jump_cm&#x27;])),\n",
       "                (&#x27;randForest&#x27;,\n",
       "                 RandomForestClassifier(max_depth=14, max_features=8,\n",
       "                                        n_estimators=80, random_state=0))])</pre><b>In a Jupyter environment, please rerun this cell to show the HTML representation or trust the notebook. <br />On GitHub, the HTML representation is unable to render, please try loading this page with nbviewer.org.</b></div><div class=\"sk-container\" hidden><div class=\"sk-item sk-dashed-wrapped\"><div class=\"sk-label-container\"><div class=\"sk-label sk-toggleable\"><input class=\"sk-toggleable__control sk-hidden--visually\" id=\"sk-estimator-id-5\" type=\"checkbox\" ><label for=\"sk-estimator-id-5\" class=\"sk-toggleable__label sk-toggleable__label-arrow\">Pipeline</label><div class=\"sk-toggleable__content\"><pre>Pipeline(steps=[(&#x27;map_gender&#x27;,\n",
       "                 Mapeamento(mapa={&#x27;F&#x27;: 1, &#x27;M&#x27;: 0}, variavel=&#x27;gender&#x27;)),\n",
       "                (&#x27;YeoYohnson_trans&#x27;,\n",
       "                 transf_yeo_johnson(colunas=[&#x27;age&#x27;, &#x27;height_cm&#x27;, &#x27;weight_kg&#x27;,\n",
       "                                             &#x27;body fat_%&#x27;, &#x27;diastolic&#x27;,\n",
       "                                             &#x27;systolic&#x27;, &#x27;gripForce&#x27;,\n",
       "                                             &#x27;sit and bend forward_cm&#x27;,\n",
       "                                             &#x27;sit-ups counts&#x27;,\n",
       "                                             &#x27;broad jump_cm&#x27;])),\n",
       "                (&#x27;randForest&#x27;,\n",
       "                 RandomForestClassifier(max_depth=14, max_features=8,\n",
       "                                        n_estimators=80, random_state=0))])</pre></div></div></div><div class=\"sk-serial\"><div class=\"sk-item\"><div class=\"sk-estimator sk-toggleable\"><input class=\"sk-toggleable__control sk-hidden--visually\" id=\"sk-estimator-id-6\" type=\"checkbox\" ><label for=\"sk-estimator-id-6\" class=\"sk-toggleable__label sk-toggleable__label-arrow\">Mapeamento</label><div class=\"sk-toggleable__content\"><pre>Mapeamento(mapa={&#x27;F&#x27;: 1, &#x27;M&#x27;: 0}, variavel=&#x27;gender&#x27;)</pre></div></div></div><div class=\"sk-item\"><div class=\"sk-estimator sk-toggleable\"><input class=\"sk-toggleable__control sk-hidden--visually\" id=\"sk-estimator-id-7\" type=\"checkbox\" ><label for=\"sk-estimator-id-7\" class=\"sk-toggleable__label sk-toggleable__label-arrow\">transf_yeo_johnson</label><div class=\"sk-toggleable__content\"><pre>transf_yeo_johnson(colunas=[&#x27;age&#x27;, &#x27;height_cm&#x27;, &#x27;weight_kg&#x27;, &#x27;body fat_%&#x27;,\n",
       "                            &#x27;diastolic&#x27;, &#x27;systolic&#x27;, &#x27;gripForce&#x27;,\n",
       "                            &#x27;sit and bend forward_cm&#x27;, &#x27;sit-ups counts&#x27;,\n",
       "                            &#x27;broad jump_cm&#x27;])</pre></div></div></div><div class=\"sk-item\"><div class=\"sk-estimator sk-toggleable\"><input class=\"sk-toggleable__control sk-hidden--visually\" id=\"sk-estimator-id-8\" type=\"checkbox\" ><label for=\"sk-estimator-id-8\" class=\"sk-toggleable__label sk-toggleable__label-arrow\">RandomForestClassifier</label><div class=\"sk-toggleable__content\"><pre>RandomForestClassifier(max_depth=14, max_features=8, n_estimators=80,\n",
       "                       random_state=0)</pre></div></div></div></div></div></div></div>"
      ],
      "text/plain": [
       "Pipeline(steps=[('map_gender',\n",
       "                 Mapeamento(mapa={'F': 1, 'M': 0}, variavel='gender')),\n",
       "                ('YeoYohnson_trans',\n",
       "                 transf_yeo_johnson(colunas=['age', 'height_cm', 'weight_kg',\n",
       "                                             'body fat_%', 'diastolic',\n",
       "                                             'systolic', 'gripForce',\n",
       "                                             'sit and bend forward_cm',\n",
       "                                             'sit-ups counts',\n",
       "                                             'broad jump_cm'])),\n",
       "                ('randForest',\n",
       "                 RandomForestClassifier(max_depth=14, max_features=8,\n",
       "                                        n_estimators=80, random_state=0))])"
      ]
     },
     "execution_count": 18,
     "metadata": {},
     "output_type": "execute_result"
    }
   ],
   "source": [
    "# Fita o pipeline\n",
    "model_pipe.fit(X_train,y_train)"
   ]
  },
  {
   "cell_type": "markdown",
   "id": "a1ad5e3e",
   "metadata": {},
   "source": [
    "## Avaliação do modelo"
   ]
  },
  {
   "cell_type": "code",
   "execution_count": 19,
   "id": "cbca518a",
   "metadata": {},
   "outputs": [
    {
     "name": "stdout",
     "output_type": "stream",
     "text": [
      "Valores previstos:  ['B' 'C' 'A' 'B' 'A' 'A' 'B' 'D' 'B' 'B']\n",
      "Valores reais:  ['C', 'C', 'A', 'C', 'B', 'A', 'B', 'D', 'B', 'A']\n",
      "Acuracia: 0.7271973466003316\n"
     ]
    }
   ],
   "source": [
    "# modelos previstos\n",
    "y_hat = model_pipe.predict(X_test)\n",
    "\n",
    "print('Valores previstos: ', y_hat[0:10])\n",
    "print('Valores reais: ', y_test.iloc[0:10].to_list())\n",
    "print(\"Acuracia:\", metrics.accuracy_score(y_test, y_hat))"
   ]
  },
  {
   "cell_type": "markdown",
   "id": "759d420d",
   "metadata": {},
   "source": [
    "### Salva o pipeline"
   ]
  },
  {
   "cell_type": "code",
   "execution_count": 20,
   "id": "aaa52248",
   "metadata": {},
   "outputs": [
    {
     "data": {
      "text/plain": [
       "['.//modelo_treinado//model_pipe.joblib']"
      ]
     },
     "execution_count": 20,
     "metadata": {},
     "output_type": "execute_result"
    }
   ],
   "source": [
    "# salva o pipeline\n",
    "joblib.dump(model_pipe, './/modelo_treinado//model_pipe.joblib')"
   ]
  }
 ],
 "metadata": {
  "hide_input": false,
  "kernelspec": {
   "display_name": "Python 3 (ipykernel)",
   "language": "python",
   "name": "python3"
  },
  "language_info": {
   "codemirror_mode": {
    "name": "ipython",
    "version": 3
   },
   "file_extension": ".py",
   "mimetype": "text/x-python",
   "name": "python",
   "nbconvert_exporter": "python",
   "pygments_lexer": "ipython3",
   "version": "3.10.6"
  }
 },
 "nbformat": 4,
 "nbformat_minor": 5
}
