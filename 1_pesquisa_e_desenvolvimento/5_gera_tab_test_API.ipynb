{
 "cells": [
  {
   "cell_type": "code",
   "execution_count": 1,
   "id": "4236e1e0",
   "metadata": {},
   "outputs": [
    {
     "name": "stderr",
     "output_type": "stream",
     "text": [
      "C:\\Users\\Joao\\AppData\\Local\\Temp\\ipykernel_6080\\3777615979.py:1: DeprecationWarning: Importing display from IPython.core.display is deprecated since IPython 7.14, please import from IPython display\n",
      "  from IPython.core.display import display, HTML\n"
     ]
    },
    {
     "data": {
      "text/html": [
       "<style>.container { width:100% !important; }</style>"
      ],
      "text/plain": [
       "<IPython.core.display.HTML object>"
      ]
     },
     "metadata": {},
     "output_type": "display_data"
    }
   ],
   "source": [
    "from IPython.core.display import display, HTML\n",
    "display(HTML(\"<style>.container { width:100% !important; }</style>\"))"
   ]
  },
  {
   "cell_type": "code",
   "execution_count": 2,
   "id": "15ce6258",
   "metadata": {},
   "outputs": [
    {
     "data": {
      "text/html": [
       "<style type='text/css'>\n",
       ".CodeMirror{\n",
       "    font-size: 15px;\n",
       "}\n",
       "\n",
       "div.output_area pre {\n",
       "    font-size: 15px;\n",
       "}\n",
       "</style>\n"
      ],
      "text/plain": [
       "<IPython.core.display.HTML object>"
      ]
     },
     "metadata": {},
     "output_type": "display_data"
    }
   ],
   "source": [
    "%%html\n",
    "<style type='text/css'>\n",
    ".CodeMirror{\n",
    "    font-size: 15px;\n",
    "}\n",
    "\n",
    "div.output_area pre {\n",
    "    font-size: 15px;\n",
    "}\n",
    "</style>"
   ]
  },
  {
   "cell_type": "markdown",
   "id": "68eb010b",
   "metadata": {},
   "source": [
    "# Descrição\n",
    "\n",
    "Este notebook gera uma tabela pra fezer testes no desenvolvimento do pacote usando o modelo gerado como o as pesquisas. A ideia é gerar uma tabela qua contenha uma coluna com  a variável alvo (chamada de \"class\" neste problema) e uma coluna com a os valores previsto pelo modelo (chamada de \"prev_val\", na tabela final)\n",
    "\n",
    "Por meio desta tabela gerada podemos fazer testes no pacote desenvolvido e verificar se a previsão pelo modelo implemantado está correta."
   ]
  },
  {
   "cell_type": "code",
   "execution_count": 25,
   "id": "fcae3b73",
   "metadata": {},
   "outputs": [],
   "source": [
    "import pandas as pd\n",
    "import numpy as np\n",
    "import joblib\n",
    "from sklearn import metrics"
   ]
  },
  {
   "cell_type": "markdown",
   "id": "e7adda78",
   "metadata": {},
   "source": [
    "## Abertura e tratamento dos dados"
   ]
  },
  {
   "cell_type": "code",
   "execution_count": 4,
   "id": "aa3c4d9d",
   "metadata": {},
   "outputs": [
    {
     "data": {
      "text/html": [
       "<div>\n",
       "<style scoped>\n",
       "    .dataframe tbody tr th:only-of-type {\n",
       "        vertical-align: middle;\n",
       "    }\n",
       "\n",
       "    .dataframe tbody tr th {\n",
       "        vertical-align: top;\n",
       "    }\n",
       "\n",
       "    .dataframe thead th {\n",
       "        text-align: right;\n",
       "    }\n",
       "</style>\n",
       "<table border=\"1\" class=\"dataframe\">\n",
       "  <thead>\n",
       "    <tr style=\"text-align: right;\">\n",
       "      <th></th>\n",
       "      <th>age</th>\n",
       "      <th>gender</th>\n",
       "      <th>height_cm</th>\n",
       "      <th>weight_kg</th>\n",
       "      <th>body fat_%</th>\n",
       "      <th>diastolic</th>\n",
       "      <th>systolic</th>\n",
       "      <th>gripForce</th>\n",
       "      <th>sit and bend forward_cm</th>\n",
       "      <th>sit-ups counts</th>\n",
       "      <th>broad jump_cm</th>\n",
       "      <th>class</th>\n",
       "    </tr>\n",
       "  </thead>\n",
       "  <tbody>\n",
       "    <tr>\n",
       "      <th>0</th>\n",
       "      <td>57.0</td>\n",
       "      <td>F</td>\n",
       "      <td>148.0</td>\n",
       "      <td>54.0</td>\n",
       "      <td>33.6</td>\n",
       "      <td>78.0</td>\n",
       "      <td>135.0</td>\n",
       "      <td>27.4</td>\n",
       "      <td>18.8</td>\n",
       "      <td>16.0</td>\n",
       "      <td>137.0</td>\n",
       "      <td>C</td>\n",
       "    </tr>\n",
       "    <tr>\n",
       "      <th>1</th>\n",
       "      <td>30.0</td>\n",
       "      <td>M</td>\n",
       "      <td>179.7</td>\n",
       "      <td>75.7</td>\n",
       "      <td>22.8</td>\n",
       "      <td>83.0</td>\n",
       "      <td>142.0</td>\n",
       "      <td>37.6</td>\n",
       "      <td>8.0</td>\n",
       "      <td>50.0</td>\n",
       "      <td>223.0</td>\n",
       "      <td>C</td>\n",
       "    </tr>\n",
       "    <tr>\n",
       "      <th>2</th>\n",
       "      <td>25.0</td>\n",
       "      <td>F</td>\n",
       "      <td>160.0</td>\n",
       "      <td>57.4</td>\n",
       "      <td>17.5</td>\n",
       "      <td>72.0</td>\n",
       "      <td>127.0</td>\n",
       "      <td>34.9</td>\n",
       "      <td>31.0</td>\n",
       "      <td>51.0</td>\n",
       "      <td>200.0</td>\n",
       "      <td>A</td>\n",
       "    </tr>\n",
       "  </tbody>\n",
       "</table>\n",
       "</div>"
      ],
      "text/plain": [
       "    age gender  height_cm  weight_kg  body fat_%  diastolic  systolic  \\\n",
       "0  57.0      F      148.0       54.0        33.6       78.0     135.0   \n",
       "1  30.0      M      179.7       75.7        22.8       83.0     142.0   \n",
       "2  25.0      F      160.0       57.4        17.5       72.0     127.0   \n",
       "\n",
       "   gripForce  sit and bend forward_cm  sit-ups counts  broad jump_cm class  \n",
       "0       27.4                     18.8            16.0          137.0     C  \n",
       "1       37.6                      8.0            50.0          223.0     C  \n",
       "2       34.9                     31.0            51.0          200.0     A  "
      ]
     },
     "execution_count": 4,
     "metadata": {},
     "output_type": "execute_result"
    }
   ],
   "source": [
    "#Importa os dados\n",
    "df = pd.read_csv(\"dados\\\\dados_teste.csv\" ,sep=',');\n",
    "df.head(3)"
   ]
  },
  {
   "cell_type": "code",
   "execution_count": 14,
   "id": "0965bb4d",
   "metadata": {},
   "outputs": [],
   "source": [
    "#variáveis de previsao e alvo\n",
    "var_prev=[var for var in df.columns if var != 'class'] \n",
    "\n",
    "X = df[var_prev]\n",
    "y = df['class']"
   ]
  },
  {
   "cell_type": "markdown",
   "id": "a91bd24b",
   "metadata": {},
   "source": [
    "## Funções usadas no pipeline\n",
    "\n",
    "Dúvida: esta função foii usada no pipeline, não sei o porque ela não ficou salva no binário do pipeline. Outras funções usadas com métodos do sklearn ficaram slavadas. Ver isto no futuro. Seria bom não precisar ficar reescrevendo funções, seria bom conseguir salver tudo em um único arquivo e importar este arquivo depois. Ver se tem como fazer isto"
   ]
  },
  {
   "cell_type": "code",
   "execution_count": 7,
   "id": "6ff30939",
   "metadata": {},
   "outputs": [],
   "source": [
    "from sklearn.base import BaseEstimator, TransformerMixin\n",
    "\n",
    "class Mapeamento(BaseEstimator, TransformerMixin):    \n",
    "\n",
    "    def __init__(self, variavel, mapa):\n",
    "        #Parametros\n",
    "        # -mapas -->lista com dicionários(mapas)\n",
    "        self.variavel = variavel\n",
    "        self.mapa = mapa \n",
    "\n",
    "    def fit(self, X, y=None):\n",
    "        return self\n",
    "\n",
    "    def transform(self, X):        \n",
    "        X = X.copy()        \n",
    "        X[self.variavel] = X[self.variavel].map(self.mapa)\n",
    "        return X"
   ]
  },
  {
   "cell_type": "markdown",
   "id": "68a27f92",
   "metadata": {},
   "source": [
    "## Carrega o pepeline treinado"
   ]
  },
  {
   "cell_type": "code",
   "execution_count": 18,
   "id": "30b396a7",
   "metadata": {},
   "outputs": [],
   "source": [
    "model_pipe = joblib.load('model_pipe.joblib') "
   ]
  },
  {
   "cell_type": "markdown",
   "id": "2cdf7d07",
   "metadata": {},
   "source": [
    "## Gera a salva a nova tabela"
   ]
  },
  {
   "cell_type": "code",
   "execution_count": 48,
   "id": "c250bf8c",
   "metadata": {},
   "outputs": [
    {
     "data": {
      "text/plain": [
       "0    B\n",
       "1    C\n",
       "2    A\n",
       "3    B\n",
       "4    A\n",
       "Name: prev_val, dtype: object"
      ]
     },
     "execution_count": 48,
     "metadata": {},
     "output_type": "execute_result"
    }
   ],
   "source": [
    "# previsão\n",
    "y_hat=model_pipe.predict(X)\n",
    "\n",
    "# transformação dos dados\n",
    "class_map = {0:'C', 1:'D', 2:'A', 3:'B' }\n",
    "y_hat= pd.Series(y_hat).map(class_map)\n",
    "\n",
    "#acrescenta na tabela\n",
    "df['prev_val']=y_hat\n",
    "\n",
    "#verificação\n",
    "df.head()['prev_val']"
   ]
  },
  {
   "cell_type": "code",
   "execution_count": 52,
   "id": "ef96c7d5",
   "metadata": {},
   "outputs": [],
   "source": [
    "# salva a nova tabela\n",
    "df.to_csv(\"dados\\\\dados_test_prev_API.csv\")"
   ]
  },
  {
   "cell_type": "markdown",
   "id": "da1b0ba8",
   "metadata": {},
   "source": [
    "## Estatisticas com os valores previstos para a tabela de teste\n",
    "\n",
    "As estatísticas abaixo servem para verificar se a aplicação do modelo com os dados de teste estão coerentes com a aplicação do modelo nos dados de treinamento e também para verificar se as previsão com o modelo implementado em um pacote estão funcionando corretamente\n",
    "\n",
    "* Na construção do modelo os dados de treinamento foram divididos em dados de treinamento e de teste. Os dados de teste foram usados para o desenvolvimento do modelo. Usando estes dados de teste podemos verificar qual modelo fornece a melhor estatística. No caso deste trabalho a melhor estatistica aconteceu para o modelo \"random tree\" e isto resultou numa accuracy de 0.7290322580645161.\n",
    "    Usando os dados de teste armazenados na tabela de teste o modelo forneceu uma accuracy de 0.7114427860696517. Com isto temso que as previsões para estes dados estão coerentes, pois forncem valores para a métrica semelhando ao btido no desenvolvimento\n",
    "    \n",
    "* Para o modelo implementado como pacote, serão feitos testes de previsão com o modelo e a méttrica dos teste deve apresentar os valor 0.7114427860696517 obtido neste notebook. Se isto acontecer o modelo foi reprozido perfeitamete no pacote\n"
   ]
  },
  {
   "cell_type": "code",
   "execution_count": 50,
   "id": "b379fa94",
   "metadata": {},
   "outputs": [
    {
     "name": "stdout",
     "output_type": "stream",
     "text": [
      "Valores previstos:  ['B', 'C', 'A', 'B', 'A', 'A', 'B', 'D', 'B', 'B']\n",
      "Valores reais:  ['C', 'C', 'A', 'C', 'B', 'A', 'B', 'D', 'B', 'A']\n",
      "Acuracia: 0.7114427860696517\n"
     ]
    }
   ],
   "source": [
    "print('Valores previstos: ', y_hat[0:10].to_list())\n",
    "print('Valores reais: ', y[0:10].to_list())\n",
    "print(\"Acuracia:\", metrics.accuracy_score(y, y_hat))"
   ]
  }
 ],
 "metadata": {
  "hide_input": false,
  "kernelspec": {
   "display_name": "Python 3 (ipykernel)",
   "language": "python",
   "name": "python3"
  },
  "language_info": {
   "codemirror_mode": {
    "name": "ipython",
    "version": 3
   },
   "file_extension": ".py",
   "mimetype": "text/x-python",
   "name": "python",
   "nbconvert_exporter": "python",
   "pygments_lexer": "ipython3",
   "version": "3.8.10"
  }
 },
 "nbformat": 4,
 "nbformat_minor": 5
}
