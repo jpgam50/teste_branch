{
 "cells": [
  {
   "cell_type": "markdown",
   "id": "68eb010b",
   "metadata": {},
   "source": [
    "# Dados para testes no desenvolvimento\n",
    "\n",
    "Este notebook gera dados para testar etapas do desenvolvimento de um pacote que treina e preve com o modelo. Os seguintes dados foram gerados:\n",
    "\n",
    "- **Precisão do modelo para as previsões** : obtida pela previsão do modelo com os dados do arquivo \"dados_teste.csv\".\n",
    "- **Tabela com dados de previsões** : esta tabela consiste dos dados no arquivo \"dados_teste.csv\" acrescido de duas coluna: \n"
   ]
  },
  {
   "cell_type": "code",
   "execution_count": 2,
   "id": "fcae3b73",
   "metadata": {},
   "outputs": [],
   "source": [
    "import pandas as pd\n",
    "import numpy as np\n",
    "import joblib\n",
    "from sklearn import metrics"
   ]
  },
  {
   "cell_type": "code",
   "execution_count": 3,
   "id": "36821149",
   "metadata": {},
   "outputs": [],
   "source": [
    "# Classes para transformação dos dados\n",
    "# =====================================\n",
    "\n",
    "\n",
    "from sklearn.base import BaseEstimator, TransformerMixin\n",
    "\n",
    "class Mapeamento(BaseEstimator, TransformerMixin):    \n",
    "\n",
    "    def __init__(self, variavel, mapa):        \n",
    "        '''\n",
    "        variavel: nome da coluna que será alterada\n",
    "        mapa: mapa com as alterações\n",
    "        '''\n",
    "        self.variavel = variavel\n",
    "        self.mapa = mapa \n",
    "\n",
    "        \n",
    "    def fit(self, X, y=None):        \n",
    "        '''\n",
    "        X: dataframe com os dados de treinamento        \n",
    "        y: serie com o rótulos do dados de treinamento\n",
    "        '''        \n",
    "        return self\n",
    "    \n",
    "\n",
    "    def transform(self, X):\n",
    "        '''\n",
    "        X: dataframe com os dados de treinamento        \n",
    "        '''        \n",
    "        X = X.copy()        \n",
    "        X[self.variavel] = X[self.variavel].map(self.mapa)\n",
    "        return X\n",
    "    \n",
    "    \n",
    "    \n",
    "    \n",
    "    \n",
    "class transf_yeo_johnson(BaseEstimator, TransformerMixin):    \n",
    "\n",
    "    def __init__(self, colunas):\n",
    "        '''\n",
    "        colunas: lista com as colunas que serão transformadas\n",
    "        '''\n",
    "        self.colunas = colunas\n",
    "        self.obj_transf= PowerTransformer(method=\"yeo-johnson\")\n",
    "    \n",
    "    \n",
    "    def fit(self, X, y=None):\n",
    "        '''\n",
    "        X: dataframe com os dados de treinamento        \n",
    "        y: serie com o rótulos do dados de treinamento\n",
    "        '''        \n",
    "        self.obj_transf= self.obj_transf.fit(X[self.colunas].values) \n",
    "        return self  \n",
    "    \n",
    "\n",
    "    def transform(self, X):\n",
    "        '''\n",
    "        X: dataframe com os dados de treinamento        \n",
    "        '''\n",
    "        X = X.copy()\n",
    "        X_array = X[self.colunas].values\n",
    "        X[self.colunas] = self.obj_transf.transform(X_array)\n",
    "        return X"
   ]
  },
  {
   "cell_type": "code",
   "execution_count": 14,
   "id": "f856934c",
   "metadata": {},
   "outputs": [],
   "source": [
    "# carrega o modelo\n",
    "# ==================\n",
    "\n",
    "model = joblib.load('.//modelo_treinado//model_pipe.joblib') "
   ]
  },
  {
   "cell_type": "code",
   "execution_count": 15,
   "id": "03f8f3e3",
   "metadata": {},
   "outputs": [
    {
     "data": {
      "text/html": [
       "<div>\n",
       "<style scoped>\n",
       "    .dataframe tbody tr th:only-of-type {\n",
       "        vertical-align: middle;\n",
       "    }\n",
       "\n",
       "    .dataframe tbody tr th {\n",
       "        vertical-align: top;\n",
       "    }\n",
       "\n",
       "    .dataframe thead th {\n",
       "        text-align: right;\n",
       "    }\n",
       "</style>\n",
       "<table border=\"1\" class=\"dataframe\">\n",
       "  <thead>\n",
       "    <tr style=\"text-align: right;\">\n",
       "      <th></th>\n",
       "      <th>age</th>\n",
       "      <th>gender</th>\n",
       "      <th>height_cm</th>\n",
       "      <th>weight_kg</th>\n",
       "      <th>body fat_%</th>\n",
       "      <th>diastolic</th>\n",
       "      <th>systolic</th>\n",
       "      <th>gripForce</th>\n",
       "      <th>sit and bend forward_cm</th>\n",
       "      <th>sit-ups counts</th>\n",
       "      <th>broad jump_cm</th>\n",
       "      <th>class</th>\n",
       "    </tr>\n",
       "  </thead>\n",
       "  <tbody>\n",
       "    <tr>\n",
       "      <th>0</th>\n",
       "      <td>26.0</td>\n",
       "      <td>M</td>\n",
       "      <td>177.5</td>\n",
       "      <td>77.84</td>\n",
       "      <td>19.5</td>\n",
       "      <td>66.0</td>\n",
       "      <td>130.0</td>\n",
       "      <td>49.2</td>\n",
       "      <td>20.3</td>\n",
       "      <td>60.0</td>\n",
       "      <td>242.0</td>\n",
       "      <td>A</td>\n",
       "    </tr>\n",
       "    <tr>\n",
       "      <th>1</th>\n",
       "      <td>35.0</td>\n",
       "      <td>M</td>\n",
       "      <td>177.8</td>\n",
       "      <td>77.00</td>\n",
       "      <td>19.0</td>\n",
       "      <td>76.0</td>\n",
       "      <td>126.0</td>\n",
       "      <td>43.0</td>\n",
       "      <td>10.1</td>\n",
       "      <td>45.0</td>\n",
       "      <td>246.0</td>\n",
       "      <td>B</td>\n",
       "    </tr>\n",
       "    <tr>\n",
       "      <th>2</th>\n",
       "      <td>25.0</td>\n",
       "      <td>M</td>\n",
       "      <td>174.0</td>\n",
       "      <td>77.60</td>\n",
       "      <td>24.4</td>\n",
       "      <td>77.0</td>\n",
       "      <td>157.0</td>\n",
       "      <td>48.6</td>\n",
       "      <td>18.6</td>\n",
       "      <td>59.0</td>\n",
       "      <td>211.0</td>\n",
       "      <td>A</td>\n",
       "    </tr>\n",
       "  </tbody>\n",
       "</table>\n",
       "</div>"
      ],
      "text/plain": [
       "    age gender  height_cm  weight_kg  body fat_%  diastolic  systolic  \\\n",
       "0  26.0      M      177.5      77.84        19.5       66.0     130.0   \n",
       "1  35.0      M      177.8      77.00        19.0       76.0     126.0   \n",
       "2  25.0      M      174.0      77.60        24.4       77.0     157.0   \n",
       "\n",
       "   gripForce  sit and bend forward_cm  sit-ups counts  broad jump_cm class  \n",
       "0       49.2                     20.3            60.0          242.0     A  \n",
       "1       43.0                     10.1            45.0          246.0     B  \n",
       "2       48.6                     18.6            59.0          211.0     A  "
      ]
     },
     "execution_count": 15,
     "metadata": {},
     "output_type": "execute_result"
    }
   ],
   "source": [
    "# importa os dados\n",
    "# ====================\n",
    "\n",
    "df = pd.read_csv(\".//dados//dados_originais//dados_teste.csv\" ,sep=',');\n",
    "df.head(3)"
   ]
  },
  {
   "cell_type": "code",
   "execution_count": 16,
   "id": "6d56c838",
   "metadata": {},
   "outputs": [],
   "source": [
    "# seleciona as variáveis\n",
    "# ==============================\n",
    "\n",
    "var_prev=[var for var in df.columns if var != 'class'] \n",
    "\n",
    "X = df[var_prev]     #variáveis para previsão\n",
    "y = df['class']      #variável also"
   ]
  },
  {
   "cell_type": "markdown",
   "id": "3a901622",
   "metadata": {},
   "source": [
    "## Métrica: precisão do modelo"
   ]
  },
  {
   "cell_type": "code",
   "execution_count": 17,
   "id": "44c54c90",
   "metadata": {},
   "outputs": [
    {
     "name": "stdout",
     "output_type": "stream",
     "text": [
      "Valores previstos:  ['A' 'B' 'B' 'B' 'B' 'D' 'B' 'D' 'D' 'A']\n",
      "Valores reais:  ['A', 'B', 'A', 'B', 'B', 'D', 'C', 'D', 'D', 'B']\n",
      "Acuracia: 0.7350746268656716\n"
     ]
    }
   ],
   "source": [
    "# modelos previstos\n",
    "y_hat = model.predict(X)\n",
    "\n",
    "print('Valores previstos: ', y_hat[0:10])\n",
    "print('Valores reais: ', y.iloc[0:10].to_list())\n",
    "print(\"Acuracia:\", metrics.accuracy_score(y, y_hat))"
   ]
  },
  {
   "cell_type": "markdown",
   "id": "2cdf7d07",
   "metadata": {},
   "source": [
    "## Gera e salva a nova tabela"
   ]
  },
  {
   "cell_type": "code",
   "execution_count": 19,
   "id": "c250bf8c",
   "metadata": {},
   "outputs": [
    {
     "data": {
      "text/plain": [
       "0    A\n",
       "1    B\n",
       "2    B\n",
       "3    B\n",
       "4    B\n",
       "Name: prev_val, dtype: object"
      ]
     },
     "execution_count": 19,
     "metadata": {},
     "output_type": "execute_result"
    }
   ],
   "source": [
    "# previsão\n",
    "y_hat=model.predict(X)\n",
    "\n",
    "#acrescenta na tabela\n",
    "df['prev_val']=y_hat\n",
    "\n",
    "#verificação\n",
    "df.head()['prev_val']"
   ]
  },
  {
   "cell_type": "code",
   "execution_count": 20,
   "id": "ef96c7d5",
   "metadata": {},
   "outputs": [],
   "source": [
    "# salva a nova tabela\n",
    "df.to_csv(\".//dados//dados_test_pacote//dados_test_pacote.csv\")"
   ]
  }
 ],
 "metadata": {
  "hide_input": false,
  "kernelspec": {
   "display_name": "Python 3 (ipykernel)",
   "language": "python",
   "name": "python3"
  },
  "language_info": {
   "codemirror_mode": {
    "name": "ipython",
    "version": 3
   },
   "file_extension": ".py",
   "mimetype": "text/x-python",
   "name": "python",
   "nbconvert_exporter": "python",
   "pygments_lexer": "ipython3",
   "version": "3.10.6"
  }
 },
 "nbformat": 4,
 "nbformat_minor": 5
}
