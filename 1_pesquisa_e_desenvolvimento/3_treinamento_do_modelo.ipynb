{
 "cells": [
  {
   "cell_type": "code",
   "execution_count": 1,
   "id": "bd72af92",
   "metadata": {
    "scrolled": false
   },
   "outputs": [
    {
     "name": "stderr",
     "output_type": "stream",
     "text": [
      "C:\\Users\\Joao\\AppData\\Local\\Temp\\ipykernel_5916\\3777615979.py:1: DeprecationWarning: Importing display from IPython.core.display is deprecated since IPython 7.14, please import from IPython display\n",
      "  from IPython.core.display import display, HTML\n"
     ]
    },
    {
     "data": {
      "text/html": [
       "<style>.container { width:100% !important; }</style>"
      ],
      "text/plain": [
       "<IPython.core.display.HTML object>"
      ]
     },
     "metadata": {},
     "output_type": "display_data"
    }
   ],
   "source": [
    "from IPython.core.display import display, HTML\n",
    "display(HTML(\"<style>.container { width:100% !important; }</style>\"))"
   ]
  },
  {
   "cell_type": "code",
   "execution_count": 2,
   "id": "4089b8b9",
   "metadata": {},
   "outputs": [
    {
     "data": {
      "text/html": [
       "<style type='text/css'>\n",
       ".CodeMirror{\n",
       "    font-size: 16px;\n",
       "}\n",
       "\n",
       "div.output_area pre {\n",
       "    font-size: 16px;\n",
       "}\n",
       "</style>\n"
      ],
      "text/plain": [
       "<IPython.core.display.HTML object>"
      ]
     },
     "metadata": {},
     "output_type": "display_data"
    }
   ],
   "source": [
    "%%html\n",
    "<style type='text/css'>\n",
    ".CodeMirror{\n",
    "    font-size: 16px;\n",
    "}\n",
    "\n",
    "div.output_area pre {\n",
    "    font-size: 16px;\n",
    "}\n",
    "</style>"
   ]
  },
  {
   "cell_type": "markdown",
   "id": "55f7fd97",
   "metadata": {},
   "source": [
    "# Trenamento do modelos\n",
    "\n",
    "Neste notebook foram feitos treinamentos de modelos a partir dos dados gerados anteriormente e salvos em arquivos. O processo foi dividido em dus etapas:\n",
    "\n",
    "- **Etapa 1:**  treinamentos dos modelos manualmente e individualmente para os dados sem nenhuma transformação. O objetivo dest etapa é testar algumas configurações para os jyperparâmetros visando encontrar uma melhor configuração e entender o compartamento dos modelos. nesta etapa pode ser definido os intervalos de hiperparametros para um processo de optimização. Neste trabalho os valores encontrados como optimos foram estabelecidos para os treinamentos com dados alterados\n",
    "</br>\n",
    "\n",
    "- **Etapa 3:**  foi feito o treinamento para os dados com alterações.. O treinamento foi feito automaticamente para cada caso por meio de um loop. Na final desta etapa os resultados podem ser comparados\n"
   ]
  },
  {
   "cell_type": "code",
   "execution_count": 15,
   "id": "08949d60",
   "metadata": {},
   "outputs": [],
   "source": [
    "import pandas as pd\n",
    "import matplotlib.pyplot as plt\n",
    "import numpy as np\n",
    "\n",
    "# para a divisão dos dados\n",
    "from sklearn.model_selection import train_test_split\n",
    "\n",
    "# modelos\n",
    "from sklearn.tree import DecisionTreeClassifier\n",
    "from sklearn.ensemble import RandomForestClassifier\n",
    "from sklearn.neighbors import KNeighborsClassifier\n",
    "from sklearn import svm\n",
    "from sklearn import metrics\n",
    "\n",
    "#para não mostrar mensagens com warnings\n",
    "import warnings"
   ]
  },
  {
   "cell_type": "code",
   "execution_count": 5,
   "id": "7fe0c3bb",
   "metadata": {},
   "outputs": [
    {
     "data": {
      "text/plain": [
       "((9762, 11), (9762,))"
      ]
     },
     "execution_count": 5,
     "metadata": {},
     "output_type": "execute_result"
    }
   ],
   "source": [
    "#leitura dos dados\n",
    "df=pd.read_csv(\"transform_semTransf.csv\")\n",
    "\n",
    "#variaveis de treinamento e alvo\n",
    "var_train=[var for var in df.columns if var != 'class'] \n",
    "\n",
    "X = df[var_train].values \n",
    "y = df['class']\n",
    "\n",
    "#Divide os dados\n",
    "X_train, X_test, y_train, y_test = train_test_split(X,\n",
    "                                                    y,\n",
    "                                                    test_size=0.1,\n",
    "                                                    random_state=0)\n",
    "X_train.shape, y_train.shape,"
   ]
  },
  {
   "cell_type": "markdown",
   "id": "8211e9bb",
   "metadata": {},
   "source": [
    "## Etapa 1: Treinamento dos modelos individualmente para os dados sem tranformações"
   ]
  },
  {
   "cell_type": "code",
   "execution_count": 6,
   "id": "2abf990a",
   "metadata": {},
   "outputs": [
    {
     "name": "stdout",
     "output_type": "stream",
     "text": [
      "Valores previstos:  [1 3 2 1 3 0 1 3 3 0]\n",
      "Valores reais:  [1, 2, 2, 0, 3, 0, 1, 1, 3, 0]\n",
      "Acuracia(métrica): 0.6433179723502304\n"
     ]
    }
   ],
   "source": [
    "#Decision tree\n",
    "model = DecisionTreeClassifier(criterion=\"entropy\",\n",
    "                               max_depth=24,\n",
    "                               min_samples_split=2,\n",
    "                               min_samples_leaf=1,\n",
    "                               min_impurity_decrease=0,\n",
    "                               random_state=0)\n",
    "                               \n",
    "model = model.fit(X_train,y_train)\n",
    "\n",
    "#previsão\n",
    "y_hat = model.predict(X_test)\n",
    "\n",
    "#alguns valores\n",
    "print('Valores previstos: ', y_hat[0:10])\n",
    "print('Valores reais: ', y_test[0:10].to_list())\n",
    "print(\"Acuracia(métrica):\", metrics.accuracy_score(y_test, y_hat))"
   ]
  },
  {
   "cell_type": "code",
   "execution_count": 7,
   "id": "5e3ded88",
   "metadata": {},
   "outputs": [
    {
     "name": "stdout",
     "output_type": "stream",
     "text": [
      "Valores previstos:  [1 2 2 0 3 0 1 1 3 0]\n",
      "Valores reais:  [1, 2, 2, 0, 3, 0, 1, 1, 3, 0]\n",
      "Acuracia: 0.7308755760368664\n"
     ]
    }
   ],
   "source": [
    "#Random forest\n",
    "model = RandomForestClassifier(n_estimators=50,\n",
    "                             max_depth=24,\n",
    "                             max_features=5,\n",
    "                             bootstrap=True,\n",
    "                             max_samples=None,\n",
    "                             random_state=0)\n",
    "model = model.fit(X_train,y_train)\n",
    "\n",
    "\n",
    "#previsão\n",
    "y_hat = model.predict(X_test)\n",
    "\n",
    "print('Valores previstos: ', y_hat[0:10])\n",
    "print('Valores reais: ', y_test[0:10].to_list())\n",
    "print(\"Acuracia:\", metrics.accuracy_score(y_test, y_hat))"
   ]
  },
  {
   "cell_type": "code",
   "execution_count": 8,
   "id": "fa245313",
   "metadata": {},
   "outputs": [
    {
     "name": "stdout",
     "output_type": "stream",
     "text": [
      "Valores previstos:  [1 0 2 1 2 0 1 1 3 0]\n",
      "Valores reais:  [1, 2, 2, 0, 3, 0, 1, 1, 3, 0]\n",
      "Acuracia: 0.5806451612903226\n"
     ]
    }
   ],
   "source": [
    "#k nearest neighbour\n",
    "model = KNeighborsClassifier(n_neighbors=50,\n",
    "                            #weights='distance'\n",
    "                            )    \n",
    "model.fit(X_train,y_train)\n",
    "\n",
    "#previsão\n",
    "y_hat = model.predict(X_test)\n",
    "\n",
    "print('Valores previstos: ', y_hat[0:10])\n",
    "print('Valores reais: ', y_test[0:10].to_list())\n",
    "print(\"Acuracia:\", metrics.accuracy_score(y_test, y_hat))"
   ]
  },
  {
   "cell_type": "code",
   "execution_count": 9,
   "id": "63ed6ca2",
   "metadata": {},
   "outputs": [
    {
     "name": "stdout",
     "output_type": "stream",
     "text": [
      "Valores previstos:  [0 1 0 0 1 0 0 0 2 0]\n",
      "Valores reais:  [1, 2, 2, 0, 3, 0, 1, 1, 3, 0]\n",
      "Acuracia: 0.34470046082949307\n"
     ]
    },
    {
     "name": "stderr",
     "output_type": "stream",
     "text": [
      "C:\\Users\\Joao\\AppData\\Roaming\\Python\\Python38\\site-packages\\sklearn\\svm\\_base.py:301: ConvergenceWarning: Solver terminated early (max_iter=5000).  Consider pre-processing your data with StandardScaler or MinMaxScaler.\n",
      "  warnings.warn(\n"
     ]
    }
   ],
   "source": [
    "#SVM com kernel polinomial\n",
    "model = svm.SVC(kernel=\"poly\",degree=5,random_state=0,\n",
    "                gamma=2.9,                \n",
    "                max_iter=5000,\n",
    "                C=0.5)\n",
    "model.fit(X_train,y_train)\n",
    "\n",
    "#previsão\n",
    "y_hat = model.predict(X_test)\n",
    "\n",
    "print('Valores previstos: ', y_hat[0:10])\n",
    "print('Valores reais: ', y_test[0:10].to_list())\n",
    "print(\"Acuracia:\", metrics.accuracy_score(y_test, y_hat))"
   ]
  },
  {
   "cell_type": "code",
   "execution_count": 10,
   "id": "1a3e0631",
   "metadata": {},
   "outputs": [
    {
     "name": "stderr",
     "output_type": "stream",
     "text": [
      "C:\\Users\\Joao\\AppData\\Roaming\\Python\\Python38\\site-packages\\sklearn\\svm\\_base.py:301: ConvergenceWarning: Solver terminated early (max_iter=3000).  Consider pre-processing your data with StandardScaler or MinMaxScaler.\n",
      "  warnings.warn(\n"
     ]
    },
    {
     "name": "stdout",
     "output_type": "stream",
     "text": [
      "Valores previstos:  [0 0 0 0 0 0 0 0 0 0]\n",
      "Valores reais:  [1, 2, 2, 0, 3, 0, 1, 1, 3, 0]\n",
      "Acuracia: 0.22580645161290322\n"
     ]
    }
   ],
   "source": [
    "# SVM com kernel rbf\n",
    "model = svm.SVC(kernel=\"rbf\",random_state=0,\n",
    "                gamma=2.9,                \n",
    "                max_iter=3000,\n",
    "                C=0.1)\n",
    "model.fit(X_train,y_train)\n",
    "\n",
    "#previsão\n",
    "y_hat = model.predict(X_test)\n",
    "\n",
    "print('Valores previstos: ', y_hat[0:10])\n",
    "print('Valores reais: ', y_test[0:10].to_list())\n",
    "print(\"Acuracia:\", metrics.accuracy_score(y_test, y_hat))"
   ]
  },
  {
   "cell_type": "markdown",
   "id": "af9537e5",
   "metadata": {},
   "source": [
    "## Etapa 2: treinamento  dos modelos para dados com transformações"
   ]
  },
  {
   "cell_type": "code",
   "execution_count": 2,
   "id": "08e2f8fc",
   "metadata": {},
   "outputs": [
    {
     "ename": "NameError",
     "evalue": "name 'DecisionTreeClassifier' is not defined",
     "output_type": "error",
     "traceback": [
      "\u001b[1;31m---------------------------------------------------------------------------\u001b[0m",
      "\u001b[1;31mNameError\u001b[0m                                 Traceback (most recent call last)",
      "Input \u001b[1;32mIn [2]\u001b[0m, in \u001b[0;36m<cell line: 1>\u001b[1;34m()\u001b[0m\n\u001b[1;32m----> 1\u001b[0m classificadores\u001b[38;5;241m=\u001b[39m{\u001b[38;5;124m'\u001b[39m\u001b[38;5;124mdecisionTree\u001b[39m\u001b[38;5;124m'\u001b[39m:DecisionTreeClassifier(criterion\u001b[38;5;241m=\u001b[39m\u001b[38;5;124m\"\u001b[39m\u001b[38;5;124mentropy\u001b[39m\u001b[38;5;124m\"\u001b[39m,\n\u001b[0;32m      2\u001b[0m                                max_depth\u001b[38;5;241m=\u001b[39m\u001b[38;5;241m24\u001b[39m,\n\u001b[0;32m      3\u001b[0m                                min_samples_split\u001b[38;5;241m=\u001b[39m\u001b[38;5;241m2\u001b[39m,\n\u001b[0;32m      4\u001b[0m                                min_samples_leaf\u001b[38;5;241m=\u001b[39m\u001b[38;5;241m1\u001b[39m,\n\u001b[0;32m      5\u001b[0m                                min_impurity_decrease\u001b[38;5;241m=\u001b[39m\u001b[38;5;241m0\u001b[39m,\n\u001b[0;32m      6\u001b[0m                                random_state\u001b[38;5;241m=\u001b[39m\u001b[38;5;241m0\u001b[39m) ,\n\u001b[0;32m      7\u001b[0m                  \n\u001b[0;32m      8\u001b[0m                  \u001b[38;5;124m'\u001b[39m\u001b[38;5;124mrandomForest\u001b[39m\u001b[38;5;124m'\u001b[39m:RandomForestClassifier(n_estimators\u001b[38;5;241m=\u001b[39m\u001b[38;5;241m50\u001b[39m,\n\u001b[0;32m      9\u001b[0m                              max_depth\u001b[38;5;241m=\u001b[39m\u001b[38;5;241m24\u001b[39m,\n\u001b[0;32m     10\u001b[0m                              max_features\u001b[38;5;241m=\u001b[39m\u001b[38;5;241m5\u001b[39m,\n\u001b[0;32m     11\u001b[0m                              bootstrap\u001b[38;5;241m=\u001b[39m\u001b[38;5;28;01mTrue\u001b[39;00m,\n\u001b[0;32m     12\u001b[0m                              max_samples\u001b[38;5;241m=\u001b[39m\u001b[38;5;28;01mNone\u001b[39;00m,\n\u001b[0;32m     13\u001b[0m                              random_state\u001b[38;5;241m=\u001b[39m\u001b[38;5;241m0\u001b[39m) ,\n\u001b[0;32m     14\u001b[0m                  \n\u001b[0;32m     15\u001b[0m                  \u001b[38;5;124m'\u001b[39m\u001b[38;5;124mkNearestNeighbour\u001b[39m\u001b[38;5;124m'\u001b[39m:KNeighborsClassifier(n_neighbors\u001b[38;5;241m=\u001b[39m\u001b[38;5;241m50\u001b[39m,\n\u001b[0;32m     16\u001b[0m                                                         \u001b[38;5;66;03m#weights='distance'\u001b[39;00m\n\u001b[0;32m     17\u001b[0m                                                         ),\n\u001b[0;32m     18\u001b[0m                                                           \n\u001b[0;32m     19\u001b[0m                  \u001b[38;5;124m'\u001b[39m\u001b[38;5;124mrbf_SVM\u001b[39m\u001b[38;5;124m'\u001b[39m:svm\u001b[38;5;241m.\u001b[39mSVC(kernel\u001b[38;5;241m=\u001b[39m\u001b[38;5;124m\"\u001b[39m\u001b[38;5;124mrbf\u001b[39m\u001b[38;5;124m\"\u001b[39m,random_state\u001b[38;5;241m=\u001b[39m\u001b[38;5;241m0\u001b[39m,\n\u001b[0;32m     20\u001b[0m                         gamma\u001b[38;5;241m=\u001b[39m\u001b[38;5;241m2.9\u001b[39m,                \n\u001b[0;32m     21\u001b[0m                         max_iter\u001b[38;5;241m=\u001b[39m\u001b[38;5;241m1000\u001b[39m,\n\u001b[0;32m     22\u001b[0m                         C\u001b[38;5;241m=\u001b[39m\u001b[38;5;241m0.1\u001b[39m),\n\u001b[0;32m     23\u001b[0m                                                           \n\u001b[0;32m     24\u001b[0m                  \u001b[38;5;124m'\u001b[39m\u001b[38;5;124mpoly3_SVM\u001b[39m\u001b[38;5;124m'\u001b[39m:svm\u001b[38;5;241m.\u001b[39mSVC(kernel\u001b[38;5;241m=\u001b[39m\u001b[38;5;124m\"\u001b[39m\u001b[38;5;124mpoly\u001b[39m\u001b[38;5;124m\"\u001b[39m,\n\u001b[0;32m     25\u001b[0m                                      degree\u001b[38;5;241m=\u001b[39m\u001b[38;5;241m5\u001b[39m,\n\u001b[0;32m     26\u001b[0m                                      random_state\u001b[38;5;241m=\u001b[39m\u001b[38;5;241m0\u001b[39m,\n\u001b[0;32m     27\u001b[0m                                      gamma\u001b[38;5;241m=\u001b[39m\u001b[38;5;241m2.9\u001b[39m,                \n\u001b[0;32m     28\u001b[0m                                      max_iter\u001b[38;5;241m=\u001b[39m\u001b[38;5;241m5000\u001b[39m,\n\u001b[0;32m     29\u001b[0m                                      C\u001b[38;5;241m=\u001b[39m\u001b[38;5;241m0.5\u001b[39m)\n\u001b[0;32m     30\u001b[0m                 }\n",
      "\u001b[1;31mNameError\u001b[0m: name 'DecisionTreeClassifier' is not defined"
     ]
    }
   ],
   "source": [
    "classificadores={'decisionTree':DecisionTreeClassifier(criterion=\"entropy\",\n",
    "                               max_depth=24,\n",
    "                               min_samples_split=2,\n",
    "                               min_samples_leaf=1,\n",
    "                               min_impurity_decrease=0,\n",
    "                               random_state=0) ,\n",
    "                 \n",
    "                 'randomForest':RandomForestClassifier(n_estimators=50,\n",
    "                             max_depth=24,\n",
    "                             max_features=5,\n",
    "                             bootstrap=True,\n",
    "                             max_samples=None,\n",
    "                             random_state=0) ,\n",
    "                 \n",
    "                 'kNearestNeighbour':KNeighborsClassifier(n_neighbors=50,\n",
    "                                                        #weights='distance'\n",
    "                                                        ),\n",
    "                                                          \n",
    "                 'rbf_SVM':svm.SVC(kernel=\"rbf\",random_state=0,\n",
    "                        gamma=2.9,                \n",
    "                        max_iter=1000,\n",
    "                        C=0.1),\n",
    "                                                          \n",
    "                 'poly3_SVM':svm.SVC(kernel=\"poly\",\n",
    "                                     degree=5,\n",
    "                                     random_state=0,\n",
    "                                     gamma=2.9,                \n",
    "                                     max_iter=5000,\n",
    "                                     C=0.5)\n",
    "                }"
   ]
  },
  {
   "cell_type": "code",
   "execution_count": 22,
   "id": "88fe4fc1",
   "metadata": {},
   "outputs": [
    {
     "name": "stdout",
     "output_type": "stream",
     "text": [
      "Tranformacao:  transform_semTransf\n",
      "(Acuracia) decisionTree:  0.6433179723502304\n",
      "(Acuracia) randomForest:  0.7308755760368664\n",
      "(Acuracia) kNearestNeighbour:  0.5806451612903226\n",
      "(Acuracia) rbf_SVM:  0.4046082949308756\n",
      "(Acuracia) poly3_SVM:  0.34470046082949307\n",
      "\n",
      "Tranformacao:  transform_yeo_johnson\n",
      "(Acuracia) decisionTree:  0.6470046082949309\n",
      "(Acuracia) randomForest:  0.7290322580645161\n",
      "(Acuracia) kNearestNeighbour:  0.5963133640552996\n",
      "(Acuracia) rbf_SVM:  0.5225806451612903\n",
      "(Acuracia) poly3_SVM:  0.40829493087557606\n",
      "\n",
      "Tranformacao:  transform_quantile\n",
      "(Acuracia) decisionTree:  0.6451612903225806\n",
      "(Acuracia) randomForest:  0.7308755760368664\n",
      "(Acuracia) kNearestNeighbour:  0.5880184331797235\n",
      "(Acuracia) rbf_SVM:  0.5050691244239631\n",
      "(Acuracia) poly3_SVM:  0.39631336405529954\n",
      "\n",
      "Tranformacao:  transform_StandadScaler\n",
      "(Acuracia) decisionTree:  0.6470046082949309\n",
      "(Acuracia) randomForest:  0.7262672811059908\n",
      "(Acuracia) kNearestNeighbour:  0.6110599078341014\n",
      "(Acuracia) rbf_SVM:  0.5216589861751152\n",
      "(Acuracia) poly3_SVM:  0.4064516129032258\n",
      "\n",
      "Tranformacao:  transform_normalization\n",
      "(Acuracia) decisionTree:  0.6027649769585254\n",
      "(Acuracia) randomForest:  0.6829493087557603\n",
      "(Acuracia) kNearestNeighbour:  0.5852534562211982\n",
      "(Acuracia) rbf_SVM:  0.3493087557603687\n",
      "(Acuracia) poly3_SVM:  0.43502304147465437\n",
      "\n"
     ]
    }
   ],
   "source": [
    "warnings.filterwarnings(\"ignore\")\n",
    "\n",
    "listFile=[\"transform_semTransf\",\n",
    "          \"transform_yeo_johnson\",\n",
    "          \"transform_quantile\",\n",
    "          \"transform_StandadScaler\",\n",
    "          \"transform_normalization\"\n",
    "         ]\n",
    "\n",
    "for nomeArqui in listFile:\n",
    "    \n",
    "    #abre o arquivo\n",
    "    df=pd.read_csv(nomeArqui+\".csv\")\n",
    "\n",
    "    #variaveis de treinamento e alvo\n",
    "    var_train=[var for var in df.columns if var != 'class'] \n",
    "    X = df[var_train].values \n",
    "    y = df['class']\n",
    "\n",
    "    #Divide os dados\n",
    "    X_train, X_test, y_train, y_test = train_test_split(X,\n",
    "                                                    y,\n",
    "                                                    test_size=0.1,\n",
    "                                                    random_state=0)\n",
    "    #imprime o nome de transformação\n",
    "    print(\"Tranformacao: \", nomeArqui)\n",
    "    \n",
    "    #treina os modelos\n",
    "    for nome_modelo, clf in classificadores.items():\n",
    "    \n",
    "        #fita o modelo\n",
    "        clf.fit(X_train,y_train)  \n",
    "\n",
    "        #preve com o modelo fitado\n",
    "        y_hat = clf.predict(X_test)\n",
    "    \n",
    "        print(\"(Acuracia) \"+nome_modelo+\": \", metrics.accuracy_score(y_test, y_hat))\n",
    "    \n",
    "    print()"
   ]
  }
 ],
 "metadata": {
  "hide_input": false,
  "kernelspec": {
   "display_name": "Python 3 (ipykernel)",
   "language": "python",
   "name": "python3"
  },
  "language_info": {
   "codemirror_mode": {
    "name": "ipython",
    "version": 3
   },
   "file_extension": ".py",
   "mimetype": "text/x-python",
   "name": "python",
   "nbconvert_exporter": "python",
   "pygments_lexer": "ipython3",
   "version": "3.8.10"
  }
 },
 "nbformat": 4,
 "nbformat_minor": 5
}
