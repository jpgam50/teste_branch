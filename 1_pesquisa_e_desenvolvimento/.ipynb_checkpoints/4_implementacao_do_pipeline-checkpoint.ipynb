{
 "cells": [
  {
   "cell_type": "code",
   "execution_count": 1,
   "id": "b9dc12fe",
   "metadata": {
    "scrolled": true
   },
   "outputs": [
    {
     "name": "stderr",
     "output_type": "stream",
     "text": [
      "/tmp/ipykernel_5193/3777615979.py:1: DeprecationWarning: Importing display from IPython.core.display is deprecated since IPython 7.14, please import from IPython display\n",
      "  from IPython.core.display import display, HTML\n"
     ]
    },
    {
     "data": {
      "text/html": [
       "<style>.container { width:100% !important; }</style>"
      ],
      "text/plain": [
       "<IPython.core.display.HTML object>"
      ]
     },
     "metadata": {},
     "output_type": "display_data"
    }
   ],
   "source": [
    "from IPython.core.display import display, HTML\n",
    "display(HTML(\"<style>.container { width:100% !important; }</style>\"))"
   ]
  },
  {
   "cell_type": "markdown",
   "id": "1e866298",
   "metadata": {},
   "source": [
    "# Construção do pipeline\n",
    "\n",
    "A cosntrução deve ser feita com as seguintes etapas:\n",
    "- deve ser separado a variável alvo das demais variáveis\n",
    "- Os dados devem ser dividos em dados de treinamento e de teste. Isto é importante para a verificação do pipeline. Fazendo esta divisão é possivel comparar os resultados dos modelos treinados sem a utilização do pipeline (modelos as tranformações foram feitas no dado como um todo)*** com os resultado obtidos com a utilização do pipeline.\n",
    "- Deve ser feita a transformação na variável separadamento dos métodos do pipeline. O pipeline só vai alterar as variáveis de treinamento\n",
    "- Aplica o pipeline\n",
    "- Usando este método no final do processo deve ser feita uma operação inversa da aplicada na variável alvo para alerar os resultados obtidos chagando na classificação desejada \n",
    "\n",
    "\n",
    "***Obs: em pipeline as tranformações não são feitas nos dados como um todo. É feita a divisão dos dados em dados de teste e de treinameto. Como o método fit o pipeline transforma os dados de treinamento e treina o modelo (nesta etapa nada é feito nos dados de teste). Quando o pipeline é usado para previsões nos dados de teste é que são feitas as transformações nos dados de teste e em sequência é aplicado o modelo treinado."
   ]
  },
  {
   "cell_type": "code",
   "execution_count": 6,
   "id": "29c69ee8",
   "metadata": {},
   "outputs": [],
   "source": [
    "#Biblioteca\n",
    "\n",
    "#Métodos prontos na biblioteca feature-engine\n",
    "#Ref.: -https://feature-engine.readthedocs.io/en/latest/index.html\n",
    "#      - arquivo 7 do curso do Udemy\n",
    "\n",
    "\n",
    "# Imputation (adicionar valor to NaN)\n",
    "#===================\n",
    "# -AddMissingIndicator\n",
    "# -MeanMedianImputer\n",
    "# -CategoricalImputer\n",
    "\n",
    "# Transformation\n",
    "#===================\n",
    "# -LogTransformer\n",
    "# -YeoJohnsonTransformer\n",
    "\n",
    "# Encoding\n",
    "#===================\n",
    "# -RareLabelEncoder\n",
    "# -OrdinalEncoder\n",
    "\n",
    "# Selection\n",
    "#===================\n",
    "# -DropFeatures\n",
    "\n",
    "# Exemplo de transformacao usando a biblioteca feature-engine\n",
    "# YeoYohnson_trans = YeoJohnsonTransformer(variables = CONTINUOUS_VAR)\n",
    "# YeoYohnson_trans.fit(df)\n",
    "# df=YeoYohnson_trans.transform(df).head(3)\n"
   ]
  },
  {
   "cell_type": "code",
   "execution_count": 3,
   "id": "ff548a3c",
   "metadata": {},
   "outputs": [],
   "source": [
    "import pandas as pd\n",
    "import numpy as np\n",
    "\n",
    "# tranformação\n",
    "from sklearn.preprocessing import PowerTransformer\n",
    "\n",
    "# metodos sklearn\n",
    "from sklearn.pipeline import Pipeline\n",
    "from sklearn.model_selection import train_test_split\n",
    "from sklearn import metrics\n",
    "\n",
    "# modelos\n",
    "from sklearn.ensemble import RandomForestClassifier\n",
    "\n",
    "# para salvar o modelo\n",
    "import joblib"
   ]
  },
  {
   "cell_type": "code",
   "execution_count": 4,
   "id": "5468719a",
   "metadata": {},
   "outputs": [
    {
     "data": {
      "text/html": [
       "<div>\n",
       "<style scoped>\n",
       "    .dataframe tbody tr th:only-of-type {\n",
       "        vertical-align: middle;\n",
       "    }\n",
       "\n",
       "    .dataframe tbody tr th {\n",
       "        vertical-align: top;\n",
       "    }\n",
       "\n",
       "    .dataframe thead th {\n",
       "        text-align: right;\n",
       "    }\n",
       "</style>\n",
       "<table border=\"1\" class=\"dataframe\">\n",
       "  <thead>\n",
       "    <tr style=\"text-align: right;\">\n",
       "      <th></th>\n",
       "      <th>age</th>\n",
       "      <th>gender</th>\n",
       "      <th>height_cm</th>\n",
       "      <th>weight_kg</th>\n",
       "      <th>body fat_%</th>\n",
       "      <th>diastolic</th>\n",
       "      <th>systolic</th>\n",
       "      <th>gripForce</th>\n",
       "      <th>sit and bend forward_cm</th>\n",
       "      <th>sit-ups counts</th>\n",
       "      <th>broad jump_cm</th>\n",
       "      <th>class</th>\n",
       "    </tr>\n",
       "  </thead>\n",
       "  <tbody>\n",
       "    <tr>\n",
       "      <th>0</th>\n",
       "      <td>24.0</td>\n",
       "      <td>M</td>\n",
       "      <td>167.3</td>\n",
       "      <td>56.10</td>\n",
       "      <td>15.6</td>\n",
       "      <td>76.0</td>\n",
       "      <td>130.0</td>\n",
       "      <td>44.6</td>\n",
       "      <td>23.1</td>\n",
       "      <td>44.0</td>\n",
       "      <td>208.0</td>\n",
       "      <td>C</td>\n",
       "    </tr>\n",
       "    <tr>\n",
       "      <th>1</th>\n",
       "      <td>54.0</td>\n",
       "      <td>F</td>\n",
       "      <td>161.0</td>\n",
       "      <td>51.86</td>\n",
       "      <td>29.9</td>\n",
       "      <td>88.0</td>\n",
       "      <td>154.0</td>\n",
       "      <td>22.1</td>\n",
       "      <td>23.0</td>\n",
       "      <td>36.0</td>\n",
       "      <td>148.0</td>\n",
       "      <td>A</td>\n",
       "    </tr>\n",
       "    <tr>\n",
       "      <th>2</th>\n",
       "      <td>34.0</td>\n",
       "      <td>M</td>\n",
       "      <td>171.7</td>\n",
       "      <td>74.22</td>\n",
       "      <td>22.6</td>\n",
       "      <td>86.0</td>\n",
       "      <td>138.0</td>\n",
       "      <td>56.1</td>\n",
       "      <td>11.4</td>\n",
       "      <td>38.0</td>\n",
       "      <td>229.0</td>\n",
       "      <td>C</td>\n",
       "    </tr>\n",
       "    <tr>\n",
       "      <th>3</th>\n",
       "      <td>21.0</td>\n",
       "      <td>M</td>\n",
       "      <td>174.0</td>\n",
       "      <td>69.80</td>\n",
       "      <td>10.8</td>\n",
       "      <td>75.0</td>\n",
       "      <td>133.0</td>\n",
       "      <td>48.5</td>\n",
       "      <td>28.1</td>\n",
       "      <td>67.0</td>\n",
       "      <td>248.0</td>\n",
       "      <td>A</td>\n",
       "    </tr>\n",
       "    <tr>\n",
       "      <th>4</th>\n",
       "      <td>37.0</td>\n",
       "      <td>F</td>\n",
       "      <td>162.8</td>\n",
       "      <td>53.00</td>\n",
       "      <td>18.4</td>\n",
       "      <td>74.0</td>\n",
       "      <td>116.0</td>\n",
       "      <td>28.5</td>\n",
       "      <td>22.8</td>\n",
       "      <td>51.0</td>\n",
       "      <td>193.0</td>\n",
       "      <td>B</td>\n",
       "    </tr>\n",
       "  </tbody>\n",
       "</table>\n",
       "</div>"
      ],
      "text/plain": [
       "    age gender  height_cm  weight_kg  body fat_%  diastolic  systolic  \\\n",
       "0  24.0      M      167.3      56.10        15.6       76.0     130.0   \n",
       "1  54.0      F      161.0      51.86        29.9       88.0     154.0   \n",
       "2  34.0      M      171.7      74.22        22.6       86.0     138.0   \n",
       "3  21.0      M      174.0      69.80        10.8       75.0     133.0   \n",
       "4  37.0      F      162.8      53.00        18.4       74.0     116.0   \n",
       "\n",
       "   gripForce  sit and bend forward_cm  sit-ups counts  broad jump_cm class  \n",
       "0       44.6                     23.1            44.0          208.0     C  \n",
       "1       22.1                     23.0            36.0          148.0     A  \n",
       "2       56.1                     11.4            38.0          229.0     C  \n",
       "3       48.5                     28.1            67.0          248.0     A  \n",
       "4       28.5                     22.8            51.0          193.0     B  "
      ]
     },
     "execution_count": 4,
     "metadata": {},
     "output_type": "execute_result"
    }
   ],
   "source": [
    "#leitura dos dados\n",
    "df = pd.read_csv(\".//dados//dados_originais//dados_treinamento.csv\" ,sep=',');\n",
    "\n",
    "# visualiza o dado\n",
    "df.head()"
   ]
  },
  {
   "cell_type": "markdown",
   "id": "a139a845",
   "metadata": {},
   "source": [
    "## Preparação dos dados"
   ]
  },
  {
   "cell_type": "code",
   "execution_count": 5,
   "id": "02e99c8a",
   "metadata": {},
   "outputs": [],
   "source": [
    "# seleciona variaveis de treinamento e alvo\n",
    "var_train=[var for var in df.columns if var != 'class'] \n",
    "\n",
    "X = df[var_train]   \n",
    "y = df['class']    "
   ]
  },
  {
   "cell_type": "code",
   "execution_count": 6,
   "id": "7004c893",
   "metadata": {},
   "outputs": [
    {
     "data": {
      "text/plain": [
       "((10847, 11), (1206, 11))"
      ]
     },
     "execution_count": 6,
     "metadata": {},
     "output_type": "execute_result"
    }
   ],
   "source": [
    "#Divide os dados\n",
    "X_train, X_test, y_train, y_test = train_test_split(X,y,\n",
    "                                                    test_size=0.1,\n",
    "                                                    random_state=0)\n",
    "\n",
    "X_train.shape, X_test.shape"
   ]
  },
  {
   "cell_type": "markdown",
   "id": "4b31a76e",
   "metadata": {},
   "source": [
    "## Variável alvo\n",
    "\n",
    "Nesta seção fazer as alterações necessárias na variável alvo"
   ]
  },
  {
   "cell_type": "code",
   "execution_count": 9,
   "id": "8ce77ba1",
   "metadata": {},
   "outputs": [],
   "source": [
    "\n",
    "#----  acho que não precisa -----\n",
    "# altera a variável alvo \n",
    "#class_map = {'C':0, 'D':1, 'A':2, 'B':3 }\n",
    "#y_train= y_train.map(class_map)\n",
    "                          \n",
    "# Obs: \n",
    "# -poderia ter alterado antes da divisão dos dados, assim ja ficaria\n",
    "#  alterado para os valores de teste também. Porém eu optei por fazer \n",
    "#  desta forma pora ficar mais parecedo com o que seria o caso real.\n",
    "# -as tranformções da variável alvo não funciona no pipeline, pois\n",
    "#  esta variável não possui nome na coluna (está escrita como nparray),\n",
    "#  mas também não faz sentido colocar a variável alvo no pipeline, pois\n",
    "#  não teremos acesso a esta variável numa aplicação do modelo, já que esta\n",
    "#  informação é a que estamos querendo prever, ela não é acessível ao usuário."
   ]
  },
  {
   "cell_type": "markdown",
   "id": "8a20dd58",
   "metadata": {},
   "source": [
    "## Classes construidas"
   ]
  },
  {
   "cell_type": "code",
   "execution_count": 29,
   "id": "1ed8ac6d",
   "metadata": {},
   "outputs": [],
   "source": [
    "# Classes para mapeamentos\n",
    "#=============================\n",
    "\n",
    "import numpy as np\n",
    "import pandas as pd\n",
    "from sklearn.base import BaseEstimator, TransformerMixin\n",
    "\n",
    "\n",
    "class Mapeamento(BaseEstimator, TransformerMixin):    \n",
    "\n",
    "    def __init__(self, variavel, mapa):        \n",
    "        '''\n",
    "        variavel: nome da coluna que será alterada\n",
    "        mapa: mapa com as alterações\n",
    "        '''\n",
    "        self.variavel = variavel\n",
    "        self.mapa = mapa \n",
    "\n",
    "        \n",
    "    def fit(self, X, y=None):        \n",
    "        '''\n",
    "        X: dataframe com os dados de treinamento        \n",
    "        y: serie com o rótulos do dados de treinamento\n",
    "        '''\n",
    "        print(\"teste\")\n",
    "        return self\n",
    "    \n",
    "\n",
    "    def transform(self, X):\n",
    "        '''\n",
    "        X: dataframe com os dados de treinamento        \n",
    "        '''        \n",
    "        X = X.copy()        \n",
    "        X[self.variavel] = X[self.variavel].map(self.mapa)\n",
    "        return X\n",
    "    \n",
    "    \n",
    "    \n",
    "    \n",
    "    \n",
    "class transf_yeo_johnson(BaseEstimator, TransformerMixin):    \n",
    "\n",
    "    def __init__(self, colunas):\n",
    "        '''\n",
    "        colunas: lista com as colunas que serão transformadas\n",
    "        '''\n",
    "        self.colunas = colunas\n",
    "        self.obj_transf= PowerTransformer(method=\"yeo-johnson\")\n",
    "    \n",
    "    \n",
    "    def fit(self, X, y=None):\n",
    "        '''\n",
    "        X: dataframe com os dados de treinamento        \n",
    "        y: serie com o rótulos do dados de treinamento\n",
    "        '''   \n",
    "        print('teste_2')\n",
    "        self.obj_transf= (self.obj_transf).fit(X[self.colunas].values) \n",
    "        return self  \n",
    "    \n",
    "\n",
    "    def transform(self, X):\n",
    "        '''\n",
    "        X: dataframe com os dados de treinamento        \n",
    "        '''\n",
    "        X = X.copy()\n",
    "        X_array = X[self.colunas].values\n",
    "        X[self.colunas] = self.obj_transf.transform(X_array)\n",
    "        return X\n"
   ]
  },
  {
   "cell_type": "markdown",
   "id": "240d0bad",
   "metadata": {},
   "source": [
    "## Configurações"
   ]
  },
  {
   "cell_type": "code",
   "execution_count": 30,
   "id": "9a181f70",
   "metadata": {},
   "outputs": [],
   "source": [
    "# Definições gerais\n",
    "gender_map = {'M': 0, 'F': 1}\n",
    "\n",
    "CONTINUOUS_VAR=['age',\n",
    "                'height_cm',\n",
    "                'weight_kg',\n",
    "                'body fat_%', \n",
    "                'diastolic',                \n",
    "                'systolic',\n",
    "                'gripForce',\n",
    "                'sit and bend forward_cm',\n",
    "                'sit-ups counts',\n",
    "                'broad jump_cm']\n"
   ]
  },
  {
   "cell_type": "markdown",
   "id": "3eb97e75",
   "metadata": {},
   "source": [
    "## Pipeline"
   ]
  },
  {
   "cell_type": "code",
   "execution_count": 31,
   "id": "7d9d82e5",
   "metadata": {},
   "outputs": [],
   "source": [
    "# Construção do pipeline\n",
    "model_pipe= Pipeline([     \n",
    "    ('map_gender', Mapeamento(variavel='gender',mapa=gender_map)),\n",
    "    ('YeoYohnson_trans', transf_yeo_johnson(CONTINUOUS_VAR)),           \n",
    "    ('randForest', RandomForestClassifier(n_estimators=50,\n",
    "                             max_depth=24,\n",
    "                             max_features=5,\n",
    "                             bootstrap=True,\n",
    "                             max_samples=None,\n",
    "                             random_state=0))\n",
    "    ])"
   ]
  },
  {
   "cell_type": "code",
   "execution_count": 32,
   "id": "f86cbc64",
   "metadata": {},
   "outputs": [
    {
     "name": "stdout",
     "output_type": "stream",
     "text": [
      "teste\n",
      "teste_2\n"
     ]
    },
    {
     "ename": "NotFittedError",
     "evalue": "This PowerTransformer instance is not fitted yet. Call 'fit' with appropriate arguments before using this estimator.",
     "output_type": "error",
     "traceback": [
      "\u001b[0;31m---------------------------------------------------------------------------\u001b[0m",
      "\u001b[0;31mNotFittedError\u001b[0m                            Traceback (most recent call last)",
      "Cell \u001b[0;32mIn [32], line 2\u001b[0m\n\u001b[1;32m      1\u001b[0m \u001b[38;5;66;03m# Fita o pipeline\u001b[39;00m\n\u001b[0;32m----> 2\u001b[0m \u001b[43mmodel_pipe\u001b[49m\u001b[38;5;241;43m.\u001b[39;49m\u001b[43mfit\u001b[49m\u001b[43m(\u001b[49m\u001b[43mX_train\u001b[49m\u001b[43m,\u001b[49m\u001b[43my_train\u001b[49m\u001b[43m)\u001b[49m\n",
      "File \u001b[0;32m~/.local/lib/python3.10/site-packages/sklearn/pipeline.py:378\u001b[0m, in \u001b[0;36mPipeline.fit\u001b[0;34m(self, X, y, **fit_params)\u001b[0m\n\u001b[1;32m    352\u001b[0m \u001b[38;5;124;03m\"\"\"Fit the model.\u001b[39;00m\n\u001b[1;32m    353\u001b[0m \n\u001b[1;32m    354\u001b[0m \u001b[38;5;124;03mFit all the transformers one after the other and transform the\u001b[39;00m\n\u001b[0;32m   (...)\u001b[0m\n\u001b[1;32m    375\u001b[0m \u001b[38;5;124;03m    Pipeline with fitted steps.\u001b[39;00m\n\u001b[1;32m    376\u001b[0m \u001b[38;5;124;03m\"\"\"\u001b[39;00m\n\u001b[1;32m    377\u001b[0m fit_params_steps \u001b[38;5;241m=\u001b[39m \u001b[38;5;28mself\u001b[39m\u001b[38;5;241m.\u001b[39m_check_fit_params(\u001b[38;5;241m*\u001b[39m\u001b[38;5;241m*\u001b[39mfit_params)\n\u001b[0;32m--> 378\u001b[0m Xt \u001b[38;5;241m=\u001b[39m \u001b[38;5;28;43mself\u001b[39;49m\u001b[38;5;241;43m.\u001b[39;49m\u001b[43m_fit\u001b[49m\u001b[43m(\u001b[49m\u001b[43mX\u001b[49m\u001b[43m,\u001b[49m\u001b[43m \u001b[49m\u001b[43my\u001b[49m\u001b[43m,\u001b[49m\u001b[43m \u001b[49m\u001b[38;5;241;43m*\u001b[39;49m\u001b[38;5;241;43m*\u001b[39;49m\u001b[43mfit_params_steps\u001b[49m\u001b[43m)\u001b[49m\n\u001b[1;32m    379\u001b[0m \u001b[38;5;28;01mwith\u001b[39;00m _print_elapsed_time(\u001b[38;5;124m\"\u001b[39m\u001b[38;5;124mPipeline\u001b[39m\u001b[38;5;124m\"\u001b[39m, \u001b[38;5;28mself\u001b[39m\u001b[38;5;241m.\u001b[39m_log_message(\u001b[38;5;28mlen\u001b[39m(\u001b[38;5;28mself\u001b[39m\u001b[38;5;241m.\u001b[39msteps) \u001b[38;5;241m-\u001b[39m \u001b[38;5;241m1\u001b[39m)):\n\u001b[1;32m    380\u001b[0m     \u001b[38;5;28;01mif\u001b[39;00m \u001b[38;5;28mself\u001b[39m\u001b[38;5;241m.\u001b[39m_final_estimator \u001b[38;5;241m!=\u001b[39m \u001b[38;5;124m\"\u001b[39m\u001b[38;5;124mpassthrough\u001b[39m\u001b[38;5;124m\"\u001b[39m:\n",
      "File \u001b[0;32m~/.local/lib/python3.10/site-packages/sklearn/pipeline.py:336\u001b[0m, in \u001b[0;36mPipeline._fit\u001b[0;34m(self, X, y, **fit_params_steps)\u001b[0m\n\u001b[1;32m    334\u001b[0m     cloned_transformer \u001b[38;5;241m=\u001b[39m clone(transformer)\n\u001b[1;32m    335\u001b[0m \u001b[38;5;66;03m# Fit or load from cache the current transformer\u001b[39;00m\n\u001b[0;32m--> 336\u001b[0m X, fitted_transformer \u001b[38;5;241m=\u001b[39m \u001b[43mfit_transform_one_cached\u001b[49m\u001b[43m(\u001b[49m\n\u001b[1;32m    337\u001b[0m \u001b[43m    \u001b[49m\u001b[43mcloned_transformer\u001b[49m\u001b[43m,\u001b[49m\n\u001b[1;32m    338\u001b[0m \u001b[43m    \u001b[49m\u001b[43mX\u001b[49m\u001b[43m,\u001b[49m\n\u001b[1;32m    339\u001b[0m \u001b[43m    \u001b[49m\u001b[43my\u001b[49m\u001b[43m,\u001b[49m\n\u001b[1;32m    340\u001b[0m \u001b[43m    \u001b[49m\u001b[38;5;28;43;01mNone\u001b[39;49;00m\u001b[43m,\u001b[49m\n\u001b[1;32m    341\u001b[0m \u001b[43m    \u001b[49m\u001b[43mmessage_clsname\u001b[49m\u001b[38;5;241;43m=\u001b[39;49m\u001b[38;5;124;43m\"\u001b[39;49m\u001b[38;5;124;43mPipeline\u001b[39;49m\u001b[38;5;124;43m\"\u001b[39;49m\u001b[43m,\u001b[49m\n\u001b[1;32m    342\u001b[0m \u001b[43m    \u001b[49m\u001b[43mmessage\u001b[49m\u001b[38;5;241;43m=\u001b[39;49m\u001b[38;5;28;43mself\u001b[39;49m\u001b[38;5;241;43m.\u001b[39;49m\u001b[43m_log_message\u001b[49m\u001b[43m(\u001b[49m\u001b[43mstep_idx\u001b[49m\u001b[43m)\u001b[49m\u001b[43m,\u001b[49m\n\u001b[1;32m    343\u001b[0m \u001b[43m    \u001b[49m\u001b[38;5;241;43m*\u001b[39;49m\u001b[38;5;241;43m*\u001b[39;49m\u001b[43mfit_params_steps\u001b[49m\u001b[43m[\u001b[49m\u001b[43mname\u001b[49m\u001b[43m]\u001b[49m\u001b[43m,\u001b[49m\n\u001b[1;32m    344\u001b[0m \u001b[43m\u001b[49m\u001b[43m)\u001b[49m\n\u001b[1;32m    345\u001b[0m \u001b[38;5;66;03m# Replace the transformer of the step with the fitted\u001b[39;00m\n\u001b[1;32m    346\u001b[0m \u001b[38;5;66;03m# transformer. This is necessary when loading the transformer\u001b[39;00m\n\u001b[1;32m    347\u001b[0m \u001b[38;5;66;03m# from the cache.\u001b[39;00m\n\u001b[1;32m    348\u001b[0m \u001b[38;5;28mself\u001b[39m\u001b[38;5;241m.\u001b[39msteps[step_idx] \u001b[38;5;241m=\u001b[39m (name, fitted_transformer)\n",
      "File \u001b[0;32m~/.local/lib/python3.10/site-packages/joblib/memory.py:349\u001b[0m, in \u001b[0;36mNotMemorizedFunc.__call__\u001b[0;34m(self, *args, **kwargs)\u001b[0m\n\u001b[1;32m    348\u001b[0m \u001b[38;5;28;01mdef\u001b[39;00m \u001b[38;5;21m__call__\u001b[39m(\u001b[38;5;28mself\u001b[39m, \u001b[38;5;241m*\u001b[39margs, \u001b[38;5;241m*\u001b[39m\u001b[38;5;241m*\u001b[39mkwargs):\n\u001b[0;32m--> 349\u001b[0m     \u001b[38;5;28;01mreturn\u001b[39;00m \u001b[38;5;28;43mself\u001b[39;49m\u001b[38;5;241;43m.\u001b[39;49m\u001b[43mfunc\u001b[49m\u001b[43m(\u001b[49m\u001b[38;5;241;43m*\u001b[39;49m\u001b[43margs\u001b[49m\u001b[43m,\u001b[49m\u001b[43m \u001b[49m\u001b[38;5;241;43m*\u001b[39;49m\u001b[38;5;241;43m*\u001b[39;49m\u001b[43mkwargs\u001b[49m\u001b[43m)\u001b[49m\n",
      "File \u001b[0;32m~/.local/lib/python3.10/site-packages/sklearn/pipeline.py:870\u001b[0m, in \u001b[0;36m_fit_transform_one\u001b[0;34m(transformer, X, y, weight, message_clsname, message, **fit_params)\u001b[0m\n\u001b[1;32m    868\u001b[0m \u001b[38;5;28;01mwith\u001b[39;00m _print_elapsed_time(message_clsname, message):\n\u001b[1;32m    869\u001b[0m     \u001b[38;5;28;01mif\u001b[39;00m \u001b[38;5;28mhasattr\u001b[39m(transformer, \u001b[38;5;124m\"\u001b[39m\u001b[38;5;124mfit_transform\u001b[39m\u001b[38;5;124m\"\u001b[39m):\n\u001b[0;32m--> 870\u001b[0m         res \u001b[38;5;241m=\u001b[39m \u001b[43mtransformer\u001b[49m\u001b[38;5;241;43m.\u001b[39;49m\u001b[43mfit_transform\u001b[49m\u001b[43m(\u001b[49m\u001b[43mX\u001b[49m\u001b[43m,\u001b[49m\u001b[43m \u001b[49m\u001b[43my\u001b[49m\u001b[43m,\u001b[49m\u001b[43m \u001b[49m\u001b[38;5;241;43m*\u001b[39;49m\u001b[38;5;241;43m*\u001b[39;49m\u001b[43mfit_params\u001b[49m\u001b[43m)\u001b[49m\n\u001b[1;32m    871\u001b[0m     \u001b[38;5;28;01melse\u001b[39;00m:\n\u001b[1;32m    872\u001b[0m         res \u001b[38;5;241m=\u001b[39m transformer\u001b[38;5;241m.\u001b[39mfit(X, y, \u001b[38;5;241m*\u001b[39m\u001b[38;5;241m*\u001b[39mfit_params)\u001b[38;5;241m.\u001b[39mtransform(X)\n",
      "File \u001b[0;32m~/.local/lib/python3.10/site-packages/sklearn/base.py:870\u001b[0m, in \u001b[0;36mTransformerMixin.fit_transform\u001b[0;34m(self, X, y, **fit_params)\u001b[0m\n\u001b[1;32m    867\u001b[0m     \u001b[38;5;28;01mreturn\u001b[39;00m \u001b[38;5;28mself\u001b[39m\u001b[38;5;241m.\u001b[39mfit(X, \u001b[38;5;241m*\u001b[39m\u001b[38;5;241m*\u001b[39mfit_params)\u001b[38;5;241m.\u001b[39mtransform(X)\n\u001b[1;32m    868\u001b[0m \u001b[38;5;28;01melse\u001b[39;00m:\n\u001b[1;32m    869\u001b[0m     \u001b[38;5;66;03m# fit method of arity 2 (supervised transformation)\u001b[39;00m\n\u001b[0;32m--> 870\u001b[0m     \u001b[38;5;28;01mreturn\u001b[39;00m \u001b[38;5;28;43mself\u001b[39;49m\u001b[38;5;241;43m.\u001b[39;49m\u001b[43mfit\u001b[49m\u001b[43m(\u001b[49m\u001b[43mX\u001b[49m\u001b[43m,\u001b[49m\u001b[43m \u001b[49m\u001b[43my\u001b[49m\u001b[43m,\u001b[49m\u001b[43m \u001b[49m\u001b[38;5;241;43m*\u001b[39;49m\u001b[38;5;241;43m*\u001b[39;49m\u001b[43mfit_params\u001b[49m\u001b[43m)\u001b[49m\u001b[38;5;241;43m.\u001b[39;49m\u001b[43mtransform\u001b[49m\u001b[43m(\u001b[49m\u001b[43mX\u001b[49m\u001b[43m)\u001b[49m\n",
      "Cell \u001b[0;32mIn [29], line 67\u001b[0m, in \u001b[0;36mtransf_yeo_johnson.transform\u001b[0;34m(self, X)\u001b[0m\n\u001b[1;32m     65\u001b[0m X \u001b[38;5;241m=\u001b[39m X\u001b[38;5;241m.\u001b[39mcopy()\n\u001b[1;32m     66\u001b[0m X_array \u001b[38;5;241m=\u001b[39m X[\u001b[38;5;28mself\u001b[39m\u001b[38;5;241m.\u001b[39mcolunas]\u001b[38;5;241m.\u001b[39mvalues\n\u001b[0;32m---> 67\u001b[0m X[\u001b[38;5;28mself\u001b[39m\u001b[38;5;241m.\u001b[39mcolunas] \u001b[38;5;241m=\u001b[39m \u001b[43mPowerTransformer\u001b[49m\u001b[43m(\u001b[49m\u001b[43mmethod\u001b[49m\u001b[38;5;241;43m=\u001b[39;49m\u001b[38;5;124;43m\"\u001b[39;49m\u001b[38;5;124;43myeo-johnson\u001b[39;49m\u001b[38;5;124;43m\"\u001b[39;49m\u001b[43m)\u001b[49m\u001b[38;5;241;43m.\u001b[39;49m\u001b[43mtransform\u001b[49m\u001b[43m(\u001b[49m\u001b[43mX_array\u001b[49m\u001b[43m)\u001b[49m\n\u001b[1;32m     68\u001b[0m \u001b[38;5;28;01mreturn\u001b[39;00m X\n",
      "File \u001b[0;32m~/.local/lib/python3.10/site-packages/sklearn/preprocessing/_data.py:3104\u001b[0m, in \u001b[0;36mPowerTransformer.transform\u001b[0;34m(self, X)\u001b[0m\n\u001b[1;32m   3091\u001b[0m \u001b[38;5;28;01mdef\u001b[39;00m \u001b[38;5;21mtransform\u001b[39m(\u001b[38;5;28mself\u001b[39m, X):\n\u001b[1;32m   3092\u001b[0m     \u001b[38;5;124;03m\"\"\"Apply the power transform to each feature using the fitted lambdas.\u001b[39;00m\n\u001b[1;32m   3093\u001b[0m \n\u001b[1;32m   3094\u001b[0m \u001b[38;5;124;03m    Parameters\u001b[39;00m\n\u001b[0;32m   (...)\u001b[0m\n\u001b[1;32m   3102\u001b[0m \u001b[38;5;124;03m        The transformed data.\u001b[39;00m\n\u001b[1;32m   3103\u001b[0m \u001b[38;5;124;03m    \"\"\"\u001b[39;00m\n\u001b[0;32m-> 3104\u001b[0m     \u001b[43mcheck_is_fitted\u001b[49m\u001b[43m(\u001b[49m\u001b[38;5;28;43mself\u001b[39;49m\u001b[43m)\u001b[49m\n\u001b[1;32m   3105\u001b[0m     X \u001b[38;5;241m=\u001b[39m \u001b[38;5;28mself\u001b[39m\u001b[38;5;241m.\u001b[39m_check_input(X, in_fit\u001b[38;5;241m=\u001b[39m\u001b[38;5;28;01mFalse\u001b[39;00m, check_positive\u001b[38;5;241m=\u001b[39m\u001b[38;5;28;01mTrue\u001b[39;00m, check_shape\u001b[38;5;241m=\u001b[39m\u001b[38;5;28;01mTrue\u001b[39;00m)\n\u001b[1;32m   3107\u001b[0m     transform_function \u001b[38;5;241m=\u001b[39m {\n\u001b[1;32m   3108\u001b[0m         \u001b[38;5;124m\"\u001b[39m\u001b[38;5;124mbox-cox\u001b[39m\u001b[38;5;124m\"\u001b[39m: boxcox,\n\u001b[1;32m   3109\u001b[0m         \u001b[38;5;124m\"\u001b[39m\u001b[38;5;124myeo-johnson\u001b[39m\u001b[38;5;124m\"\u001b[39m: \u001b[38;5;28mself\u001b[39m\u001b[38;5;241m.\u001b[39m_yeo_johnson_transform,\n\u001b[1;32m   3110\u001b[0m     }[\u001b[38;5;28mself\u001b[39m\u001b[38;5;241m.\u001b[39mmethod]\n",
      "File \u001b[0;32m~/.local/lib/python3.10/site-packages/sklearn/utils/validation.py:1345\u001b[0m, in \u001b[0;36mcheck_is_fitted\u001b[0;34m(estimator, attributes, msg, all_or_any)\u001b[0m\n\u001b[1;32m   1340\u001b[0m     fitted \u001b[38;5;241m=\u001b[39m [\n\u001b[1;32m   1341\u001b[0m         v \u001b[38;5;28;01mfor\u001b[39;00m v \u001b[38;5;129;01min\u001b[39;00m \u001b[38;5;28mvars\u001b[39m(estimator) \u001b[38;5;28;01mif\u001b[39;00m v\u001b[38;5;241m.\u001b[39mendswith(\u001b[38;5;124m\"\u001b[39m\u001b[38;5;124m_\u001b[39m\u001b[38;5;124m\"\u001b[39m) \u001b[38;5;129;01mand\u001b[39;00m \u001b[38;5;129;01mnot\u001b[39;00m v\u001b[38;5;241m.\u001b[39mstartswith(\u001b[38;5;124m\"\u001b[39m\u001b[38;5;124m__\u001b[39m\u001b[38;5;124m\"\u001b[39m)\n\u001b[1;32m   1342\u001b[0m     ]\n\u001b[1;32m   1344\u001b[0m \u001b[38;5;28;01mif\u001b[39;00m \u001b[38;5;129;01mnot\u001b[39;00m fitted:\n\u001b[0;32m-> 1345\u001b[0m     \u001b[38;5;28;01mraise\u001b[39;00m NotFittedError(msg \u001b[38;5;241m%\u001b[39m {\u001b[38;5;124m\"\u001b[39m\u001b[38;5;124mname\u001b[39m\u001b[38;5;124m\"\u001b[39m: \u001b[38;5;28mtype\u001b[39m(estimator)\u001b[38;5;241m.\u001b[39m\u001b[38;5;18m__name__\u001b[39m})\n",
      "\u001b[0;31mNotFittedError\u001b[0m: This PowerTransformer instance is not fitted yet. Call 'fit' with appropriate arguments before using this estimator."
     ]
    }
   ],
   "source": [
    "# Fita o pipeline\n",
    "model_pipe.fit(X_train,y_train)"
   ]
  },
  {
   "cell_type": "code",
   "execution_count": 13,
   "id": "cbca518a",
   "metadata": {},
   "outputs": [
    {
     "name": "stdout",
     "output_type": "stream",
     "text": [
      "Valores previstos:  ['B' 'C' 'A' 'B' 'A' 'B' 'B' 'D' 'B' 'B']\n",
      "Valores reais:  ['C', 'C', 'A', 'C', 'B', 'A', 'B', 'D', 'B', 'A']\n",
      "Acuracia: 0.6749585406301825\n"
     ]
    }
   ],
   "source": [
    "# Avaliação do modelo\n",
    "#===========================\n",
    "\n",
    "# IMPORTANTE: os resultados devem bater com os resultados\n",
    "# obtidos no arquivo de treinamento do modelo sem o pipeline\n",
    "\n",
    "# modelos previstos\n",
    "y_hat = model_pipe.predict(X_test)\n",
    "\n",
    "\n",
    "print('Valores previstos: ', y_hat[0:10])\n",
    "print('Valores reais: ', y_test.iloc[0:10].to_list())\n",
    "print(\"Acuracia:\", metrics.accuracy_score(y_test, y_hat))"
   ]
  },
  {
   "cell_type": "code",
   "execution_count": 15,
   "id": "aaa52248",
   "metadata": {},
   "outputs": [
    {
     "data": {
      "text/plain": [
       "['model_pipe.joblib']"
      ]
     },
     "execution_count": 15,
     "metadata": {},
     "output_type": "execute_result"
    }
   ],
   "source": [
    "# salva o pipeline\n",
    "joblib.dump(model_pipe, 'model_pipe.joblib')"
   ]
  },
  {
   "cell_type": "markdown",
   "id": "feadfd8a",
   "metadata": {},
   "source": [
    "## Score new datas"
   ]
  },
  {
   "cell_type": "code",
   "execution_count": 17,
   "id": "dcd288e2",
   "metadata": {},
   "outputs": [],
   "source": [
    "f_teste = joblib.load('model_pipe.joblib') "
   ]
  }
 ],
 "metadata": {
  "hide_input": false,
  "kernelspec": {
   "display_name": "Python 3 (ipykernel)",
   "language": "python",
   "name": "python3"
  },
  "language_info": {
   "codemirror_mode": {
    "name": "ipython",
    "version": 3
   },
   "file_extension": ".py",
   "mimetype": "text/x-python",
   "name": "python",
   "nbconvert_exporter": "python",
   "pygments_lexer": "ipython3",
   "version": "3.10.6"
  }
 },
 "nbformat": 4,
 "nbformat_minor": 5
}
