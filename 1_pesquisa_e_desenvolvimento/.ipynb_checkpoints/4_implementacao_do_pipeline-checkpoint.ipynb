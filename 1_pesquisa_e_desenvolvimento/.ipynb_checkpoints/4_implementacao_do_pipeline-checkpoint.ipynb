{
 "cells": [
  {
   "cell_type": "code",
   "execution_count": 2,
   "id": "b9dc12fe",
   "metadata": {
    "scrolled": true
   },
   "outputs": [
    {
     "name": "stderr",
     "output_type": "stream",
     "text": [
      "C:\\Users\\Joao\\AppData\\Local\\Temp\\ipykernel_3212\\3777615979.py:1: DeprecationWarning: Importing display from IPython.core.display is deprecated since IPython 7.14, please import from IPython display\n",
      "  from IPython.core.display import display, HTML\n"
     ]
    },
    {
     "data": {
      "text/html": [
       "<style>.container { width:100% !important; }</style>"
      ],
      "text/plain": [
       "<IPython.core.display.HTML object>"
      ]
     },
     "metadata": {},
     "output_type": "display_data"
    }
   ],
   "source": [
    "from IPython.core.display import display, HTML\n",
    "display(HTML(\"<style>.container { width:100% !important; }</style>\"))"
   ]
  },
  {
   "cell_type": "markdown",
   "id": "1e866298",
   "metadata": {},
   "source": [
    "# Construção do pipeline\n",
    "\n",
    "A cosntrução deve ser feita com as seguintes etapas:\n",
    "- deve ser separado a variável alvo das demais variáveis\n",
    "- Os dados devem ser dividos em dados de treinamento e de teste. Isto é importante para a verificação do pipeline. Fazendo esta divisão é possivel comparar os resultados dos modelos treinados sem a utilização do pipeline (modelos as tranformações foram feitas no dado como um todo)*** com os resultado obtidos com a utilização do pipeline.\n",
    "- Deve ser feita a transformação na variável separadamento dos métodos do pipeline. O pipeline só vai alterar as variáveis de treinamento\n",
    "- Aplica o pipeline\n",
    "- Usando este método no final do processo deve ser feita uma operação inversa da aplicada na variável alvo para alerar os resultados obtidos chagando na classificação desejada \n",
    "\n",
    "\n",
    "***Obs: em pipeline as tranformações não são feitas nos dados como um todo. É feita a divisão dos dados em dados de teste e de treinameto. Como o método fit o pipeline transforma os dados de treinamento e treina o modelo (nesta etapa nada é feito nos dados de teste). Quando o pipeline é usado para previsões nos dados de teste é que são feitas as transformações nos dados de teste e em sequência é aplicado o modelo treinado."
   ]
  },
  {
   "cell_type": "code",
   "execution_count": 6,
   "id": "29c69ee8",
   "metadata": {},
   "outputs": [],
   "source": [
    "#Biblioteca\n",
    "\n",
    "#Métodos prontos na biblioteca feature-engine\n",
    "#Ref.: -https://feature-engine.readthedocs.io/en/latest/index.html\n",
    "#      - arquivo 7 do curso do Udemy\n",
    "\n",
    "\n",
    "# Imputation (adicionar valor to NaN)\n",
    "#===================\n",
    "# -AddMissingIndicator\n",
    "# -MeanMedianImputer\n",
    "# -CategoricalImputer\n",
    "\n",
    "# Transformation\n",
    "#===================\n",
    "# -LogTransformer\n",
    "# -YeoJohnsonTransformer\n",
    "\n",
    "# Encoding\n",
    "#===================\n",
    "# -RareLabelEncoder\n",
    "# -OrdinalEncoder\n",
    "\n",
    "# Selection\n",
    "#===================\n",
    "# -DropFeatures\n",
    "\n",
    "# Exemplo de transformacao usando a biblioteca feature-engine\n",
    "# YeoYohnson_trans = YeoJohnsonTransformer(variables = CONTINUOUS_VAR)\n",
    "# YeoYohnson_trans.fit(df)\n",
    "# df=YeoYohnson_trans.transform(df).head(3)\n"
   ]
  },
  {
   "cell_type": "code",
   "execution_count": 5,
   "id": "ff548a3c",
   "metadata": {},
   "outputs": [],
   "source": [
    "import pandas as pd\n",
    "import numpy as np\n",
    "\n",
    "#da biblioteca feature-engine\n",
    "from feature_engine.encoding import OneHotEncoder\n",
    "from feature_engine.transformation import YeoJohnsonTransformer\n",
    "\n",
    "#para transformações\n",
    "from sklearn.preprocessing import StandardScaler\n",
    "from sklearn.preprocessing import QuantileTransformer\n",
    "from sklearn.preprocessing import PowerTransformer\n",
    "from sklearn.preprocessing import Normalizer\n",
    "\n",
    "# metodos sklearn\n",
    "from sklearn.pipeline import Pipeline\n",
    "from sklearn.model_selection import train_test_split\n",
    "from sklearn import metrics\n",
    "\n",
    "# modelos\n",
    "from sklearn.ensemble import RandomForestClassifier\n",
    "\n",
    "# para salvar o modelo\n",
    "import joblib"
   ]
  },
  {
   "cell_type": "code",
   "execution_count": 6,
   "id": "5468719a",
   "metadata": {},
   "outputs": [
    {
     "name": "stdout",
     "output_type": "stream",
     "text": [
      "(10847, 12)\n"
     ]
    },
    {
     "data": {
      "text/html": [
       "<div>\n",
       "<style scoped>\n",
       "    .dataframe tbody tr th:only-of-type {\n",
       "        vertical-align: middle;\n",
       "    }\n",
       "\n",
       "    .dataframe tbody tr th {\n",
       "        vertical-align: top;\n",
       "    }\n",
       "\n",
       "    .dataframe thead th {\n",
       "        text-align: right;\n",
       "    }\n",
       "</style>\n",
       "<table border=\"1\" class=\"dataframe\">\n",
       "  <thead>\n",
       "    <tr style=\"text-align: right;\">\n",
       "      <th></th>\n",
       "      <th>age</th>\n",
       "      <th>gender</th>\n",
       "      <th>height_cm</th>\n",
       "      <th>weight_kg</th>\n",
       "      <th>body fat_%</th>\n",
       "      <th>diastolic</th>\n",
       "      <th>systolic</th>\n",
       "      <th>gripForce</th>\n",
       "      <th>sit and bend forward_cm</th>\n",
       "      <th>sit-ups counts</th>\n",
       "      <th>broad jump_cm</th>\n",
       "      <th>class</th>\n",
       "    </tr>\n",
       "  </thead>\n",
       "  <tbody>\n",
       "    <tr>\n",
       "      <th>0</th>\n",
       "      <td>35.0</td>\n",
       "      <td>M</td>\n",
       "      <td>173.6</td>\n",
       "      <td>84.08</td>\n",
       "      <td>25.4</td>\n",
       "      <td>97.0</td>\n",
       "      <td>157.0</td>\n",
       "      <td>48.8</td>\n",
       "      <td>26.4</td>\n",
       "      <td>58.0</td>\n",
       "      <td>229.0</td>\n",
       "      <td>B</td>\n",
       "    </tr>\n",
       "    <tr>\n",
       "      <th>1</th>\n",
       "      <td>22.0</td>\n",
       "      <td>F</td>\n",
       "      <td>168.3</td>\n",
       "      <td>56.30</td>\n",
       "      <td>20.9</td>\n",
       "      <td>74.0</td>\n",
       "      <td>117.0</td>\n",
       "      <td>27.4</td>\n",
       "      <td>21.5</td>\n",
       "      <td>56.0</td>\n",
       "      <td>192.0</td>\n",
       "      <td>A</td>\n",
       "    </tr>\n",
       "    <tr>\n",
       "      <th>2</th>\n",
       "      <td>59.0</td>\n",
       "      <td>F</td>\n",
       "      <td>152.9</td>\n",
       "      <td>55.20</td>\n",
       "      <td>33.9</td>\n",
       "      <td>68.0</td>\n",
       "      <td>142.0</td>\n",
       "      <td>27.4</td>\n",
       "      <td>15.3</td>\n",
       "      <td>15.0</td>\n",
       "      <td>146.0</td>\n",
       "      <td>C</td>\n",
       "    </tr>\n",
       "    <tr>\n",
       "      <th>3</th>\n",
       "      <td>30.0</td>\n",
       "      <td>F</td>\n",
       "      <td>153.3</td>\n",
       "      <td>54.60</td>\n",
       "      <td>26.7</td>\n",
       "      <td>75.0</td>\n",
       "      <td>127.0</td>\n",
       "      <td>25.7</td>\n",
       "      <td>19.1</td>\n",
       "      <td>37.0</td>\n",
       "      <td>152.0</td>\n",
       "      <td>C</td>\n",
       "    </tr>\n",
       "    <tr>\n",
       "      <th>4</th>\n",
       "      <td>23.0</td>\n",
       "      <td>F</td>\n",
       "      <td>167.1</td>\n",
       "      <td>58.80</td>\n",
       "      <td>28.0</td>\n",
       "      <td>60.0</td>\n",
       "      <td>104.0</td>\n",
       "      <td>28.9</td>\n",
       "      <td>19.8</td>\n",
       "      <td>45.0</td>\n",
       "      <td>166.0</td>\n",
       "      <td>A</td>\n",
       "    </tr>\n",
       "  </tbody>\n",
       "</table>\n",
       "</div>"
      ],
      "text/plain": [
       "    age gender  height_cm  weight_kg  body fat_%  diastolic  systolic  \\\n",
       "0  35.0      M      173.6      84.08        25.4       97.0     157.0   \n",
       "1  22.0      F      168.3      56.30        20.9       74.0     117.0   \n",
       "2  59.0      F      152.9      55.20        33.9       68.0     142.0   \n",
       "3  30.0      F      153.3      54.60        26.7       75.0     127.0   \n",
       "4  23.0      F      167.1      58.80        28.0       60.0     104.0   \n",
       "\n",
       "   gripForce  sit and bend forward_cm  sit-ups counts  broad jump_cm class  \n",
       "0       48.8                     26.4            58.0          229.0     B  \n",
       "1       27.4                     21.5            56.0          192.0     A  \n",
       "2       27.4                     15.3            15.0          146.0     C  \n",
       "3       25.7                     19.1            37.0          152.0     C  \n",
       "4       28.9                     19.8            45.0          166.0     A  "
      ]
     },
     "execution_count": 6,
     "metadata": {},
     "output_type": "execute_result"
    }
   ],
   "source": [
    "#leitura dos dados\n",
    "df = pd.read_csv(\"dados\\\\dados_treinamento.csv\" ,sep=',');\n",
    "\n",
    "# linhas e colunas\n",
    "print(df.shape)\n",
    "\n",
    "# visualiza o dado\n",
    "df.head()"
   ]
  },
  {
   "cell_type": "markdown",
   "id": "a139a845",
   "metadata": {},
   "source": [
    "## Preparação dos dados"
   ]
  },
  {
   "cell_type": "code",
   "execution_count": 7,
   "id": "02e99c8a",
   "metadata": {},
   "outputs": [],
   "source": [
    "#seleciona variaveis de treinamento e alvo\n",
    "var_train=[var for var in df.columns if var != 'class'] \n",
    "\n",
    "X = df[var_train]\n",
    "y = df['class']"
   ]
  },
  {
   "cell_type": "code",
   "execution_count": 8,
   "id": "7004c893",
   "metadata": {},
   "outputs": [
    {
     "data": {
      "text/plain": [
       "((9762, 11), (1085, 11))"
      ]
     },
     "execution_count": 8,
     "metadata": {},
     "output_type": "execute_result"
    }
   ],
   "source": [
    "#Divide os dados\n",
    "X_train, X_test, y_train, y_test = train_test_split(X,y,\n",
    "                                                    test_size=0.1,\n",
    "                                                    random_state=0)\n",
    "\n",
    "X_train.shape, X_test.shape"
   ]
  },
  {
   "cell_type": "markdown",
   "id": "4b31a76e",
   "metadata": {},
   "source": [
    "## Variável alvo\n",
    "\n",
    "Nesta seção fazer as alterações necessárias na variável alvo"
   ]
  },
  {
   "cell_type": "code",
   "execution_count": 9,
   "id": "8ce77ba1",
   "metadata": {},
   "outputs": [],
   "source": [
    "#altera a variável alvo\n",
    "class_map = {'C':0, 'D':1, 'A':2, 'B':3 }\n",
    "y_train= y_train.map(class_map)\n",
    "                          \n",
    "# Obs: \n",
    "# -poderia ter alterado antes da divisão dos dados, assim ja ficaria\n",
    "#  alterado para os valores de teste também. Porém eu optei por fazer \n",
    "#  desta forma pora ficar mais parecedo com o que seria o caso real.\n",
    "# -as tranformções da variável alvo não funciona no pipeline, pois\n",
    "#  esta variável não possui nome na coluna (está escrita como nparray),\n",
    "#  mas também não faz sentido colocar a variável alvo no pipeline, pois\n",
    "#  não teremos acesso a esta variável numa aplicação do modelo, já que esta\n",
    "#  informação é a que estamos querendo prever, ela não é acessível ao usuário."
   ]
  },
  {
   "cell_type": "markdown",
   "id": "8a20dd58",
   "metadata": {},
   "source": [
    "## Classes construidas"
   ]
  },
  {
   "cell_type": "code",
   "execution_count": 10,
   "id": "1ed8ac6d",
   "metadata": {},
   "outputs": [],
   "source": [
    "# Classes para mapeamentos\n",
    "#=============================\n",
    "\n",
    "import numpy as np\n",
    "import pandas as pd\n",
    "from sklearn.base import BaseEstimator, TransformerMixin\n",
    "\n",
    "\n",
    "class Mapeamento(BaseEstimator, TransformerMixin):    \n",
    "\n",
    "    def __init__(self, variavel, mapa):\n",
    "        #Parametros\n",
    "        # -mapas -->lista com dicionários(mapas)\n",
    "        self.variavel = variavel\n",
    "        self.mapa = mapa \n",
    "\n",
    "    def fit(self, X, y=None):\n",
    "        return self\n",
    "\n",
    "    def transform(self, X):        \n",
    "        X = X.copy()        \n",
    "        X[self.variavel] = X[self.variavel].map(self.mapa)\n",
    "        return X\n"
   ]
  },
  {
   "cell_type": "markdown",
   "id": "240d0bad",
   "metadata": {},
   "source": [
    "## Configurações"
   ]
  },
  {
   "cell_type": "code",
   "execution_count": 11,
   "id": "9a181f70",
   "metadata": {},
   "outputs": [],
   "source": [
    "# Definições gerais\n",
    "gender_map = {'M': 0, 'F': 1}\n",
    "\n",
    "CONTINUOUS_VAR=['age','height_cm', 'weight_kg', 'body fat_%', 'diastolic',\n",
    "                 'systolic', 'gripForce', 'sit and bend forward_cm',\n",
    "                 'sit-ups counts', 'broad jump_cm']"
   ]
  },
  {
   "cell_type": "markdown",
   "id": "3eb97e75",
   "metadata": {},
   "source": [
    "## Pipeline"
   ]
  },
  {
   "cell_type": "code",
   "execution_count": 12,
   "id": "7d9d82e5",
   "metadata": {},
   "outputs": [],
   "source": [
    "# Cosntrução do pipeline\n",
    "model_pipe= Pipeline([     \n",
    "    ('YeoYohnson_trans',YeoJohnsonTransformer(variables = CONTINUOUS_VAR)),\n",
    "    ('map_gender',Mapeamento(variavel='gender',mapa=gender_map)),       \n",
    "    ('randForest', RandomForestClassifier(n_estimators=50,\n",
    "                             max_depth=24,\n",
    "                             max_features=5,\n",
    "                             bootstrap=True,\n",
    "                             max_samples=None,\n",
    "                             random_state=0))\n",
    "])"
   ]
  },
  {
   "cell_type": "code",
   "execution_count": 13,
   "id": "f86cbc64",
   "metadata": {},
   "outputs": [
    {
     "data": {
      "text/plain": [
       "Pipeline(steps=[('YeoYohnson_trans',\n",
       "                 YeoJohnsonTransformer(variables=['age', 'height_cm',\n",
       "                                                  'weight_kg', 'body fat_%',\n",
       "                                                  'diastolic', 'systolic',\n",
       "                                                  'gripForce',\n",
       "                                                  'sit and bend forward_cm',\n",
       "                                                  'sit-ups counts',\n",
       "                                                  'broad jump_cm'])),\n",
       "                ('map_gender',\n",
       "                 Mapeamento(mapa={'F': 1, 'M': 0}, variavel='gender')),\n",
       "                ('randForest',\n",
       "                 RandomForestClassifier(max_depth=24, max_features=5,\n",
       "                                        n_estimators=50, random_state=0))])"
      ]
     },
     "execution_count": 13,
     "metadata": {},
     "output_type": "execute_result"
    }
   ],
   "source": [
    "# Fita o pipeline\n",
    "model_pipe.fit(X_train,y_train)"
   ]
  },
  {
   "cell_type": "code",
   "execution_count": 14,
   "id": "cbca518a",
   "metadata": {},
   "outputs": [
    {
     "name": "stdout",
     "output_type": "stream",
     "text": [
      "Valores previstos:  [1 2 2 0 3 0 1 1 3 0]\n",
      "Valores reais:  [1, 2, 2, 0, 3, 0, 1, 1, 3, 0]\n",
      "Acuracia: 0.7290322580645161\n"
     ]
    }
   ],
   "source": [
    "# Avaliação do modelo\n",
    "#===========================\n",
    "\n",
    "# IMPORTANTE: os resultados devem bater com os resultados\n",
    "# obtidos no arquivo de treinamento do modelo sem o pipeline\n",
    "\n",
    "# modelos previstos\n",
    "y_hat = model_pipe.predict(X_test)\n",
    "\n",
    "# transformação dos dados de teste\n",
    "class_map = {'C':0, 'D':1, 'A':2, 'B':3 }\n",
    "y_test= y_test.map(class_map)\n",
    "\n",
    "\n",
    "print('Valores previstos: ', y_hat[0:10])\n",
    "print('Valores reais: ', y_test[0:10].to_list())\n",
    "print(\"Acuracia:\", metrics.accuracy_score(y_test, y_hat))"
   ]
  },
  {
   "cell_type": "code",
   "execution_count": 15,
   "id": "aaa52248",
   "metadata": {},
   "outputs": [
    {
     "data": {
      "text/plain": [
       "['model_pipe.joblib']"
      ]
     },
     "execution_count": 15,
     "metadata": {},
     "output_type": "execute_result"
    }
   ],
   "source": [
    "# salva o pipeline\n",
    "joblib.dump(model_pipe, 'model_pipe.joblib')"
   ]
  },
  {
   "cell_type": "markdown",
   "id": "feadfd8a",
   "metadata": {},
   "source": [
    "## Score new datas"
   ]
  },
  {
   "cell_type": "code",
   "execution_count": 17,
   "id": "dcd288e2",
   "metadata": {},
   "outputs": [],
   "source": [
    "f_teste = joblib.load('model_pipe.joblib') "
   ]
  }
 ],
 "metadata": {
  "hide_input": false,
  "kernelspec": {
   "display_name": "Python 3 (ipykernel)",
   "language": "python",
   "name": "python3"
  },
  "language_info": {
   "codemirror_mode": {
    "name": "ipython",
    "version": 3
   },
   "file_extension": ".py",
   "mimetype": "text/x-python",
   "name": "python",
   "nbconvert_exporter": "python",
   "pygments_lexer": "ipython3",
   "version": "3.8.10"
  }
 },
 "nbformat": 4,
 "nbformat_minor": 5
}
