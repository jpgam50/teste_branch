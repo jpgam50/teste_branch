{
 "cells": [
  {
   "cell_type": "code",
   "execution_count": 1,
   "id": "bd72af92",
   "metadata": {
    "scrolled": true
   },
   "outputs": [
    {
     "name": "stderr",
     "output_type": "stream",
     "text": [
      "C:\\Users\\Joao\\AppData\\Local\\Temp\\ipykernel_2464\\3777615979.py:1: DeprecationWarning: Importing display from IPython.core.display is deprecated since IPython 7.14, please import from IPython display\n",
      "  from IPython.core.display import display, HTML\n"
     ]
    },
    {
     "data": {
      "text/html": [
       "<style>.container { width:100% !important; }</style>"
      ],
      "text/plain": [
       "<IPython.core.display.HTML object>"
      ]
     },
     "metadata": {},
     "output_type": "display_data"
    }
   ],
   "source": [
    "from IPython.core.display import display, HTML\n",
    "display(HTML(\"<style>.container { width:100% !important; }</style>\"))"
   ]
  },
  {
   "cell_type": "code",
   "execution_count": 2,
   "id": "4089b8b9",
   "metadata": {},
   "outputs": [
    {
     "data": {
      "text/html": [
       "<style type='text/css'>\n",
       ".CodeMirror{\n",
       "    font-size: 16px;\n",
       "}\n",
       "\n",
       "div.output_area pre {\n",
       "    font-size: 16px;\n",
       "}\n",
       "</style>\n"
      ],
      "text/plain": [
       "<IPython.core.display.HTML object>"
      ]
     },
     "metadata": {},
     "output_type": "display_data"
    }
   ],
   "source": [
    "%%html\n",
    "<style type='text/css'>\n",
    ".CodeMirror{\n",
    "    font-size: 16px;\n",
    "}\n",
    "\n",
    "div.output_area pre {\n",
    "    font-size: 16px;\n",
    "}\n",
    "</style>"
   ]
  },
  {
   "cell_type": "markdown",
   "id": "de08d21e",
   "metadata": {},
   "source": [
    "## Engenharia dos dados\n",
    "\n",
    "Neste trabalho são feitas 5 configurações de alterações nos dados. Sendo estas descritas abaixo. Para todos os casos é feito  mapeamento das variáveis cetagóricas\n",
    "\n",
    "**OBSERVAÇÕES IMPORTANTEs** \n",
    "- as transformações foram feitas nos dados como um todo. O dado não foi dividido entre dados de treinamento e de teste. A variável alvo foi transformada juntamente com os dados. Isto é diferente do que é feito na implementação dos modelos, onde as transformações são feitas separadamente para as variáveis de treinamento(como uma tabela) e para a variável alvo  (como outra tabela). Uma verificação para a iplementação em pipeline, seria a obtenção dos mesmos resultados para o modelo treinado com pipeline e para o modelo treinado apartir dos arquivos deste notebook\n",
    "- Depois de feitas as transformações os dados foram salvos em arquivos. Os arquivos gerados é que forma usados para os treinamentos dos modelos. Não sei se esta é a melhor forma de fazer, não sei se existe alguma forma mais eficiente de fazer esta etapas sem a utilização de arquivos. \n",
    "\n",
    "- Alterações em todos os caso:\n",
    "    - Mapeamento de variáveis catagóricas\n",
    "    </br></br>\n",
    "\n",
    "- Alterações específicas de cada caso:\n",
    "    - Caso 1: Não foi feita nenhuma transformação adicional nos dados\n",
    "\n",
    "    - Caso 2: yeo-johnson transformation nas variáveis numéricas contínuas\n",
    "        \n",
    "    - Caso 3: QuantileTransformer nas variáveis numéricas contínuas\n",
    "        \n",
    "    - Caso 4: Standard transformation nas variáveis numéricas contínuas\n",
    "      \n",
    "    - Caso 5: Normalização das variáveis numérricas contínuas\n",
    "  \n",
    "  \n",
    "- Alterações para o futuro\n",
    "    - Eliminaçoes de outliers"
   ]
  },
  {
   "cell_type": "code",
   "execution_count": 9,
   "id": "08949d60",
   "metadata": {},
   "outputs": [],
   "source": [
    "import pandas as pd\n",
    "import matplotlib.pyplot as plt\n",
    "import seaborn as sns\n",
    "import numpy as np\n",
    "\n",
    "#para transformações\n",
    "from sklearn.preprocessing import StandardScaler\n",
    "from sklearn.preprocessing import QuantileTransformer\n",
    "from sklearn.preprocessing import PowerTransformer\n",
    "from sklearn.preprocessing import Normalizer"
   ]
  },
  {
   "cell_type": "code",
   "execution_count": 10,
   "id": "7fe0c3bb",
   "metadata": {},
   "outputs": [],
   "source": [
    "#leitura dos dados de treinamento\n",
    "df = pd.read_csv(\"dados_treinamento.csv\" ,sep=',');"
   ]
  },
  {
   "cell_type": "code",
   "execution_count": 11,
   "id": "21399b04",
   "metadata": {},
   "outputs": [],
   "source": [
    "#Altera as variáveis categóricas\n",
    "\n",
    "#Mapa: variáveis 'gender'\n",
    "gender_map = {'M': 0, 'F': 1}\n",
    "var = 'gender'\n",
    "df[var] = df[var].map(gender_map)\n",
    "\n",
    "#Mapa: variáveis alvo\n",
    "class_map = {'C':0, 'D':1, 'A':2, 'B':3 }\n",
    "var='class'\n",
    "df[var]= df[var].map(class_map)"
   ]
  },
  {
   "cell_type": "code",
   "execution_count": 12,
   "id": "9919365b",
   "metadata": {},
   "outputs": [],
   "source": [
    "#Variáveis numéricas contínuas\n",
    "listaVar=['age','height_cm','weight_kg','body fat_%','diastolic',\n",
    "          'systolic','gripForce','sit and bend forward_cm', 'sit-ups counts',\n",
    "          'broad jump_cm']"
   ]
  },
  {
   "cell_type": "code",
   "execution_count": 13,
   "id": "324f9254",
   "metadata": {},
   "outputs": [],
   "source": [
    "#Caso 1\n",
    "df.to_csv(\"transform_SemT.csv\", index=False)"
   ]
  },
  {
   "cell_type": "code",
   "execution_count": 14,
   "id": "4fe6aadb",
   "metadata": {},
   "outputs": [],
   "source": [
    "#Caso 2: yeo-johnson transformation\n",
    "\n",
    "#cópia temporaria dos dados\n",
    "df_temp= df.copy()\n",
    "\n",
    "#faz a transformação\n",
    "dados= df[listaVar].values  \n",
    "df_temp[listaVar]=PowerTransformer(method=\"yeo-johnson\").fit_transform(dados)\n",
    "\n",
    "# Obs: no mpetodo acima, assim como na mioria dos métodos do sklearn, pode ser\n",
    "# dado com input um dataframe. Quando isot é feito o metodo transforma \n",
    "# automaticamente de dataframa para np.array, que é a entada desejada.\n",
    "\n",
    "#Salva o resultado\n",
    "df_temp.to_csv(\"yeo_johnson_transform.csv\", index=False)"
   ]
  },
  {
   "cell_type": "code",
   "execution_count": 15,
   "id": "d25c5a39",
   "metadata": {},
   "outputs": [],
   "source": [
    "#Caso 3: qunatile tranformation\n",
    "\n",
    "#cópia temporaria dos dados\n",
    "df_temp= df.copy()\n",
    "\n",
    "#faz a transformação\n",
    "dados= df[listaVar].values  \n",
    "df_temp[listaVar]=QuantileTransformer(output_distribution=\"normal\").fit_transform(dados)\n",
    "\n",
    "#Salva o resultado\n",
    "df_temp.to_csv(\"transform_quantile.csv\", index=False)"
   ]
  },
  {
   "cell_type": "code",
   "execution_count": 16,
   "id": "f7cb2225",
   "metadata": {},
   "outputs": [],
   "source": [
    "#Caso 4: stander scaler transformation\n",
    "\n",
    "#cópia temporaria dos dados\n",
    "df_temp= df.copy()\n",
    "\n",
    "#faz a transformação\n",
    "dados= df[listaVar].values  \n",
    "df_temp[listaVar] = StandardScaler().fit_transform(dados)\n",
    "\n",
    "#Salva o resultado\n",
    "df_temp.to_csv(\"transform_StandadScaler.csv\", index=False)"
   ]
  },
  {
   "cell_type": "code",
   "execution_count": 18,
   "id": "b444da90",
   "metadata": {},
   "outputs": [],
   "source": [
    "#Caso 5: normalization\n",
    "\n",
    "#cópia temporaria dos dados\n",
    "df_temp= df.copy()\n",
    "\n",
    "#faz a transformação\n",
    "dados= df[listaVar].values  \n",
    "df_temp[listaVar] = Normalizer().fit_transform(dados)\n",
    "\n",
    "#Salva o resultado\n",
    "df_temp.to_csv(\"transform_normalization.csv\", index=False)"
   ]
  }
 ],
 "metadata": {
  "hide_input": false,
  "kernelspec": {
   "display_name": "Python 3 (ipykernel)",
   "language": "python",
   "name": "python3"
  },
  "language_info": {
   "codemirror_mode": {
    "name": "ipython",
    "version": 3
   },
   "file_extension": ".py",
   "mimetype": "text/x-python",
   "name": "python",
   "nbconvert_exporter": "python",
   "pygments_lexer": "ipython3",
   "version": "3.8.10"
  }
 },
 "nbformat": 4,
 "nbformat_minor": 5
}
