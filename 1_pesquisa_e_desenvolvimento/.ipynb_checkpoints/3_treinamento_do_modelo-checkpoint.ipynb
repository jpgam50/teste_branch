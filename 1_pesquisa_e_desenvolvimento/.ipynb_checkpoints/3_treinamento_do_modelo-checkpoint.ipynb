{
 "cells": [
  {
   "cell_type": "code",
   "execution_count": 1,
   "id": "bd72af92",
   "metadata": {
    "scrolled": false
   },
   "outputs": [
    {
     "name": "stderr",
     "output_type": "stream",
     "text": [
      "/tmp/ipykernel_6317/3777615979.py:1: DeprecationWarning: Importing display from IPython.core.display is deprecated since IPython 7.14, please import from IPython display\n",
      "  from IPython.core.display import display, HTML\n"
     ]
    },
    {
     "data": {
      "text/html": [
       "<style>.container { width:100% !important; }</style>"
      ],
      "text/plain": [
       "<IPython.core.display.HTML object>"
      ]
     },
     "metadata": {},
     "output_type": "display_data"
    }
   ],
   "source": [
    "from IPython.core.display import display, HTML\n",
    "display(HTML(\"<style>.container { width:100% !important; }</style>\"))"
   ]
  },
  {
   "cell_type": "code",
   "execution_count": 2,
   "id": "4089b8b9",
   "metadata": {},
   "outputs": [
    {
     "data": {
      "text/html": [
       "<style type='text/css'>\n",
       ".CodeMirror{\n",
       "    font-size: 16px;\n",
       "}\n",
       "\n",
       "div.output_area pre {\n",
       "    font-size: 16px;\n",
       "}\n",
       "</style>\n"
      ],
      "text/plain": [
       "<IPython.core.display.HTML object>"
      ]
     },
     "metadata": {},
     "output_type": "display_data"
    }
   ],
   "source": [
    "%%html\n",
    "<style type='text/css'>\n",
    ".CodeMirror{\n",
    "    font-size: 16px;\n",
    "}\n",
    "\n",
    "div.output_area pre {\n",
    "    font-size: 16px;\n",
    "}\n",
    "</style>"
   ]
  },
  {
   "cell_type": "markdown",
   "id": "55f7fd97",
   "metadata": {},
   "source": [
    "# Trenamento do modelos\n",
    "\n",
    "Neste notebook foram feitos treinamentos de modelos a partir dos dados gerados anteriormente e salvos em arquivos. O processo foi dividido em dus etapas:\n",
    "\n",
    "- **Etapa 1:**  treinamentos dos modelos manualmente e individualmente para os dados sem nenhuma transformação. O objetivo dest etapa é testar algumas configurações para os jyperparâmetros visando encontrar uma melhor configuração e entender o compartamento dos modelos. nesta etapa pode ser definido os intervalos de hiperparametros para um processo de optimização. Neste trabalho os valores encontrados como optimos foram estabelecidos para os treinamentos com dados alterados\n",
    "</br>\n",
    "\n",
    "- **Etapa 2:**  foi feito o treinamento para os dados com alterações.. O treinamento foi feito automaticamente para cada caso por meio de um loop. Na final desta etapa os resultados podem ser comparados\n"
   ]
  },
  {
   "cell_type": "markdown",
   "id": "b02effb5",
   "metadata": {},
   "source": [
    "Nesta seção feitos alguns treinamentos de modelos visando obter o que fornace o melhor resultado\n",
    "\n",
    "Considerei 5 modelos para o estudo () cada modelo foi treinado considerando com as seguintes tranformações nos dados:\n",
    "\n",
    "\n",
    "OBS: nenhuma transformação é aplicada na variável alvo\n",
    "\n",
    "Sequência:\n",
    "\n",
    "- Divide os dados\n",
    "- Faz uma transformação\n",
    "- Treina o modelo\n",
    "- Testa o modelo"
   ]
  },
  {
   "cell_type": "code",
   "execution_count": 44,
   "id": "08949d60",
   "metadata": {},
   "outputs": [],
   "source": [
    "import pandas as pd\n",
    "import matplotlib.pyplot as plt\n",
    "import numpy as np\n",
    "\n",
    "# transfomações\n",
    "from sklearn.preprocessing import StandardScaler\n",
    "from sklearn.preprocessing import QuantileTransformer\n",
    "from sklearn.preprocessing import PowerTransformer\n",
    "from sklearn.preprocessing import Normalizer\n",
    "\n",
    "#para divisao dos dados\n",
    "from sklearn.model_selection import train_test_split\n",
    "\n",
    "# modelos\n",
    "from sklearn.tree import DecisionTreeClassifier\n",
    "from sklearn.ensemble import RandomForestClassifier\n",
    "from sklearn.neighbors import KNeighborsClassifier\n",
    "from sklearn import svm\n",
    "\n",
    "#metricas\n",
    "from sklearn import metrics\n",
    "\n",
    "#para não mostrar mensagens com warnings\n",
    "import warnings\n",
    "\n",
    "import time"
   ]
  },
  {
   "cell_type": "markdown",
   "id": "af9537e5",
   "metadata": {},
   "source": [
    "## Treinamento  dos modelos para dados com transformações"
   ]
  },
  {
   "cell_type": "code",
   "execution_count": 42,
   "id": "08e2f8fc",
   "metadata": {},
   "outputs": [],
   "source": [
    "classificadores={'decisionTree':DecisionTreeClassifier(criterion=\"entropy\",\n",
    "                               max_depth=24,\n",
    "                               min_samples_split=2,\n",
    "                               min_samples_leaf=1,\n",
    "                               min_impurity_decrease=0,\n",
    "                               random_state=0),\n",
    "                \n",
    "                'randomForest':RandomForestClassifier(n_estimators=50,\n",
    "                             max_depth=24,\n",
    "                             max_features=5,\n",
    "                             bootstrap=True,\n",
    "                             max_samples=None,\n",
    "                             random_state=0) ,\n",
    "                 \n",
    "                 'kNearestNeighbour':KNeighborsClassifier(n_neighbors=50,\n",
    "                                                        #weights='distance'\n",
    "                                                        ),\n",
    "                                                          \n",
    "                 'rbf_SVM':svm.SVC(kernel=\"rbf\",random_state=0,\n",
    "                        gamma=2.9,                \n",
    "                        max_iter=1000,\n",
    "                        C=0.1),\n",
    "                                                          \n",
    "                 'poly3_SVM':svm.SVC(kernel=\"poly\",\n",
    "                                     degree=5,\n",
    "                                     random_state=0,\n",
    "                                     gamma=2.9,                \n",
    "                                     max_iter=5000,\n",
    "                                     C=0.5)\n",
    "                }\n",
    "                "
   ]
  },
  {
   "cell_type": "code",
   "execution_count": 45,
   "id": "88fe4fc1",
   "metadata": {},
   "outputs": [
    {
     "name": "stdout",
     "output_type": "stream",
     "text": [
      "--- Treinamento com o arquivo: sem_transformacao ---\n",
      "decisionTree treinado!\n",
      "randomForest treinado!\n",
      "kNearestNeighbour treinado!\n",
      "rbf_SVM treinado!\n",
      "poly3_SVM treinado!\n",
      "(tempo: 8.93824577331543 seg.)\n",
      "\n",
      "--- Treinamento com o arquivo: transform_yeo_johnson ---\n",
      "decisionTree treinado!\n",
      "randomForest treinado!\n",
      "kNearestNeighbour treinado!\n",
      "rbf_SVM treinado!\n",
      "poly3_SVM treinado!\n",
      "(tempo: 11.598689794540405 seg.)\n",
      "\n",
      "--- Treinamento com o arquivo: transform_quantile ---\n",
      "decisionTree treinado!\n",
      "randomForest treinado!\n",
      "kNearestNeighbour treinado!\n",
      "rbf_SVM treinado!\n",
      "poly3_SVM treinado!\n",
      "(tempo: 10.540813207626343 seg.)\n",
      "\n",
      "--- Treinamento com o arquivo: transform_standadScaler ---\n",
      "decisionTree treinado!\n",
      "randomForest treinado!\n",
      "kNearestNeighbour treinado!\n",
      "rbf_SVM treinado!\n",
      "poly3_SVM treinado!\n",
      "(tempo: 11.127559185028076 seg.)\n",
      "\n",
      "--- Treinamento com o arquivo: transform_normalizer ---\n",
      "decisionTree treinado!\n",
      "randomForest treinado!\n",
      "kNearestNeighbour treinado!\n",
      "rbf_SVM treinado!\n",
      "poly3_SVM treinado!\n",
      "(tempo: 13.422076225280762 seg.)\n",
      "\n"
     ]
    }
   ],
   "source": [
    "warnings.filterwarnings(\"ignore\")\n",
    "\n",
    "path_dados=\".//dados//dados_treinamento//\"\n",
    "\n",
    "dict_file={'sem_transformacao':[\"sem_transformacao\"],        #dados sem transformação\n",
    "           'yeo_johnson': [\"transform_yeo_johnson\"],    \n",
    "           'quantile': [\"transform_quantile\"],          \n",
    "           'standart':[\"transform_standadScaler\"],      \n",
    "           'normalization': [\"transform_normalizer\"],\n",
    "          }\n",
    "\n",
    "\n",
    "dict_metricas={}\n",
    "\n",
    "for key in dict_file.keys():    \n",
    "    \n",
    "    print(\"--- Treinamento com o arquivo: \"+dict_file[key][0]+\" ---\")\n",
    "    t_ini=time.time()\n",
    "    \n",
    "    # carrega os dados\n",
    "    df=pd.read_csv(path_dados+dict_file[key][0]+\".csv\")\n",
    "\n",
    "    \n",
    "    # variáveis de  treinamento e alvo\n",
    "    var_train=[var for var in df.columns if var != 'class'] \n",
    "    X = df[var_train]#.to_numpy(dtype=np.float32) \n",
    "    y = df['class']\n",
    "    \n",
    "    \n",
    "    # divide os dados\n",
    "    X_train, X_test, y_train, y_test = train_test_split(X,\n",
    "                                                    y,\n",
    "                                                    test_size=0.1,\n",
    "                                                    random_state=0)\n",
    "    \n",
    "    \n",
    "    \n",
    "    \n",
    "    #treina os modelos\n",
    "    metricas_modelo=[]\n",
    "    for nome_modelo, clf in classificadores.items():    \n",
    "        \n",
    "        clf.fit(X_train,y_train)          \n",
    "        y_hat = clf.predict(X_test)\n",
    "        \n",
    "        # resultados\n",
    "        metricas_modelo= metricas_modelo + [metrics.accuracy_score(y_test, y_hat)]\n",
    "        \n",
    "        print(nome_modelo+\" treinado!\")\n",
    "        \n",
    "    \n",
    "    # armazena os resultados\n",
    "    dict_metricas[key]=metricas_modelo    \n",
    "    print(\"(tempo: \"+str(time.time()-t_ini)+\" seg.)\\n\")"
   ]
  },
  {
   "cell_type": "code",
   "execution_count": 16,
   "id": "b8de899f",
   "metadata": {},
   "outputs": [
    {
     "data": {
      "text/html": [
       "<div>\n",
       "<style scoped>\n",
       "    .dataframe tbody tr th:only-of-type {\n",
       "        vertical-align: middle;\n",
       "    }\n",
       "\n",
       "    .dataframe tbody tr th {\n",
       "        vertical-align: top;\n",
       "    }\n",
       "\n",
       "    .dataframe thead th {\n",
       "        text-align: right;\n",
       "    }\n",
       "</style>\n",
       "<table border=\"1\" class=\"dataframe\">\n",
       "  <thead>\n",
       "    <tr style=\"text-align: right;\">\n",
       "      <th></th>\n",
       "      <th>sem_transformacao</th>\n",
       "      <th>yeo_johnson</th>\n",
       "      <th>quantile</th>\n",
       "      <th>standart</th>\n",
       "      <th>normalization</th>\n",
       "    </tr>\n",
       "  </thead>\n",
       "  <tbody>\n",
       "    <tr>\n",
       "      <th>decisionTree</th>\n",
       "      <td>0.624378</td>\n",
       "      <td>0.621891</td>\n",
       "      <td>0.620232</td>\n",
       "      <td>0.624378</td>\n",
       "      <td>0.597015</td>\n",
       "    </tr>\n",
       "    <tr>\n",
       "      <th>randomForest</th>\n",
       "      <td>0.718905</td>\n",
       "      <td>0.721393</td>\n",
       "      <td>0.719735</td>\n",
       "      <td>0.719735</td>\n",
       "      <td>0.675788</td>\n",
       "    </tr>\n",
       "    <tr>\n",
       "      <th>kNearestNeighbour</th>\n",
       "      <td>0.576285</td>\n",
       "      <td>0.598673</td>\n",
       "      <td>0.594527</td>\n",
       "      <td>0.613599</td>\n",
       "      <td>0.581260</td>\n",
       "    </tr>\n",
       "    <tr>\n",
       "      <th>rbf_SVM</th>\n",
       "      <td>0.509950</td>\n",
       "      <td>0.538143</td>\n",
       "      <td>0.548093</td>\n",
       "      <td>0.527363</td>\n",
       "      <td>0.328358</td>\n",
       "    </tr>\n",
       "    <tr>\n",
       "      <th>poly3_SVM</th>\n",
       "      <td>0.334992</td>\n",
       "      <td>0.386401</td>\n",
       "      <td>0.344942</td>\n",
       "      <td>0.389718</td>\n",
       "      <td>0.538143</td>\n",
       "    </tr>\n",
       "  </tbody>\n",
       "</table>\n",
       "</div>"
      ],
      "text/plain": [
       "                   sem_transformacao  yeo_johnson  quantile  standart  \\\n",
       "decisionTree                0.624378     0.621891  0.620232  0.624378   \n",
       "randomForest                0.718905     0.721393  0.719735  0.719735   \n",
       "kNearestNeighbour           0.576285     0.598673  0.594527  0.613599   \n",
       "rbf_SVM                     0.509950     0.538143  0.548093  0.527363   \n",
       "poly3_SVM                   0.334992     0.386401  0.344942  0.389718   \n",
       "\n",
       "                   normalization  \n",
       "decisionTree            0.597015  \n",
       "randomForest            0.675788  \n",
       "kNearestNeighbour       0.581260  \n",
       "rbf_SVM                 0.328358  \n",
       "poly3_SVM               0.538143  "
      ]
     },
     "execution_count": 16,
     "metadata": {},
     "output_type": "execute_result"
    }
   ],
   "source": [
    "# apresentação dos resultados\n",
    "df=pd.DataFrame(dict_metricas)\n",
    "df.index=list(classificadores.keys())\n",
    "df"
   ]
  }
 ],
 "metadata": {
  "hide_input": false,
  "kernelspec": {
   "display_name": "Python 3 (ipykernel)",
   "language": "python",
   "name": "python3"
  },
  "language_info": {
   "codemirror_mode": {
    "name": "ipython",
    "version": 3
   },
   "file_extension": ".py",
   "mimetype": "text/x-python",
   "name": "python",
   "nbconvert_exporter": "python",
   "pygments_lexer": "ipython3",
   "version": "3.10.6"
  }
 },
 "nbformat": 4,
 "nbformat_minor": 5
}
